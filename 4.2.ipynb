{
 "cells": [
  {
   "cell_type": "code",
   "execution_count": 1,
   "metadata": {},
   "outputs": [],
   "source": [
    "%matplotlib inline\n",
    "import pandas as pd\n",
    "import numpy as np\n",
    "import matplotlib.pyplot as plt\n",
    "from scipy.optimize import curve_fit\n",
    "import seaborn as sns"
   ]
  },
  {
   "cell_type": "code",
   "execution_count": 2,
   "metadata": {},
   "outputs": [],
   "source": [
    "data = pd.read_excel('4_2.xlsx')"
   ]
  },
  {
   "cell_type": "code",
   "execution_count": 3,
   "metadata": {},
   "outputs": [],
   "source": [
    "def chi_sq(x, y, err):\n",
    "    function = lambda x, a, b: a * x + b\n",
    "    popt, pcov = curve_fit(function, xdata=x, ydata=y, sigma=err)\n",
    "\n",
    "    sigma_a = np.sqrt(pcov[0, 0])\n",
    "    sigma_b = np.sqrt(pcov[1, 1])\n",
    "\n",
    "    return popt[0], popt[1], sigma_a, sigma_b"
   ]
  },
  {
   "cell_type": "code",
   "execution_count": 4,
   "metadata": {},
   "outputs": [],
   "source": [
    "sns.set_theme()"
   ]
  },
  {
   "cell_type": "code",
   "execution_count": 5,
   "metadata": {},
   "outputs": [
    {
     "data": {
      "text/html": [
       "<div>\n",
       "<style scoped>\n",
       "    .dataframe tbody tr th:only-of-type {\n",
       "        vertical-align: middle;\n",
       "    }\n",
       "\n",
       "    .dataframe tbody tr th {\n",
       "        vertical-align: top;\n",
       "    }\n",
       "\n",
       "    .dataframe thead th {\n",
       "        text-align: right;\n",
       "    }\n",
       "</style>\n",
       "<table border=\"1\" class=\"dataframe\">\n",
       "  <thead>\n",
       "    <tr style=\"text-align: right;\">\n",
       "      <th></th>\n",
       "      <th>current</th>\n",
       "      <th>N</th>\n",
       "      <th>N_1</th>\n",
       "      <th>p</th>\n",
       "      <th>T</th>\n",
       "      <th>mkFermi</th>\n",
       "      <th>Unnamed: 6</th>\n",
       "      <th>фон</th>\n",
       "      <th>по 100 с</th>\n",
       "      <th>ток 0</th>\n",
       "      <th>Unnamed: 10</th>\n",
       "    </tr>\n",
       "  </thead>\n",
       "  <tbody>\n",
       "    <tr>\n",
       "      <th>0</th>\n",
       "      <td>0.00</td>\n",
       "      <td>0.766</td>\n",
       "      <td>-0.040467</td>\n",
       "      <td>0.0</td>\n",
       "      <td>0.0</td>\n",
       "      <td>0.0000</td>\n",
       "      <td>NaN</td>\n",
       "      <td>NaN</td>\n",
       "      <td>NaN</td>\n",
       "      <td>Nф</td>\n",
       "      <td>dNф</td>\n",
       "    </tr>\n",
       "    <tr>\n",
       "      <th>1</th>\n",
       "      <td>0.20</td>\n",
       "      <td>0.950</td>\n",
       "      <td>0.143533</td>\n",
       "      <td>48.3</td>\n",
       "      <td>2.3</td>\n",
       "      <td>1152.3714</td>\n",
       "      <td>NaN</td>\n",
       "      <td>NaN</td>\n",
       "      <td>1.0</td>\n",
       "      <td>0.7398</td>\n",
       "      <td>0.086</td>\n",
       "    </tr>\n",
       "    <tr>\n",
       "      <th>2</th>\n",
       "      <td>0.40</td>\n",
       "      <td>0.950</td>\n",
       "      <td>0.143533</td>\n",
       "      <td>96.6</td>\n",
       "      <td>9.0</td>\n",
       "      <td>407.4248</td>\n",
       "      <td>NaN</td>\n",
       "      <td>NaN</td>\n",
       "      <td>2.0</td>\n",
       "      <td>0.8298</td>\n",
       "      <td>0.091</td>\n",
       "    </tr>\n",
       "    <tr>\n",
       "      <th>3</th>\n",
       "      <td>0.60</td>\n",
       "      <td>0.966</td>\n",
       "      <td>0.159533</td>\n",
       "      <td>144.9</td>\n",
       "      <td>20.1</td>\n",
       "      <td>233.8139</td>\n",
       "      <td>NaN</td>\n",
       "      <td>NaN</td>\n",
       "      <td>3.0</td>\n",
       "      <td>0.8498</td>\n",
       "      <td>0.092</td>\n",
       "    </tr>\n",
       "    <tr>\n",
       "      <th>4</th>\n",
       "      <td>0.80</td>\n",
       "      <td>0.966</td>\n",
       "      <td>0.159533</td>\n",
       "      <td>193.1</td>\n",
       "      <td>35.3</td>\n",
       "      <td>151.8592</td>\n",
       "      <td>NaN</td>\n",
       "      <td>NaN</td>\n",
       "      <td>NaN</td>\n",
       "      <td>0.806467</td>\n",
       "      <td>0.0896667</td>\n",
       "    </tr>\n",
       "    <tr>\n",
       "      <th>5</th>\n",
       "      <td>1.00</td>\n",
       "      <td>1.083</td>\n",
       "      <td>0.276533</td>\n",
       "      <td>241.4</td>\n",
       "      <td>54.2</td>\n",
       "      <td>141.7545</td>\n",
       "      <td>NaN</td>\n",
       "      <td>NaN</td>\n",
       "      <td>NaN</td>\n",
       "      <td>NaN</td>\n",
       "      <td>NaN</td>\n",
       "    </tr>\n",
       "    <tr>\n",
       "      <th>6</th>\n",
       "      <td>1.20</td>\n",
       "      <td>1.533</td>\n",
       "      <td>0.726533</td>\n",
       "      <td>289.7</td>\n",
       "      <td>76.4</td>\n",
       "      <td>173.5591</td>\n",
       "      <td>NaN</td>\n",
       "      <td>NaN</td>\n",
       "      <td>NaN</td>\n",
       "      <td>NaN</td>\n",
       "      <td>NaN</td>\n",
       "    </tr>\n",
       "    <tr>\n",
       "      <th>7</th>\n",
       "      <td>1.40</td>\n",
       "      <td>2.016</td>\n",
       "      <td>1.209533</td>\n",
       "      <td>338.0</td>\n",
       "      <td>101.7</td>\n",
       "      <td>177.4234</td>\n",
       "      <td>NaN</td>\n",
       "      <td>NaN</td>\n",
       "      <td>NaN</td>\n",
       "      <td>NaN</td>\n",
       "      <td>NaN</td>\n",
       "    </tr>\n",
       "    <tr>\n",
       "      <th>8</th>\n",
       "      <td>1.60</td>\n",
       "      <td>2.265</td>\n",
       "      <td>1.458533</td>\n",
       "      <td>386.3</td>\n",
       "      <td>129.6</td>\n",
       "      <td>159.4467</td>\n",
       "      <td>NaN</td>\n",
       "      <td>NaN</td>\n",
       "      <td>NaN</td>\n",
       "      <td>NaN</td>\n",
       "      <td>NaN</td>\n",
       "    </tr>\n",
       "    <tr>\n",
       "      <th>9</th>\n",
       "      <td>1.80</td>\n",
       "      <td>2.915</td>\n",
       "      <td>2.108533</td>\n",
       "      <td>434.6</td>\n",
       "      <td>159.8</td>\n",
       "      <td>160.5337</td>\n",
       "      <td>NaN</td>\n",
       "      <td>NaN</td>\n",
       "      <td>NaN</td>\n",
       "      <td>NaN</td>\n",
       "      <td>NaN</td>\n",
       "    </tr>\n",
       "    <tr>\n",
       "      <th>10</th>\n",
       "      <td>2.00</td>\n",
       "      <td>3.415</td>\n",
       "      <td>2.608533</td>\n",
       "      <td>482.9</td>\n",
       "      <td>192.0</td>\n",
       "      <td>152.4020</td>\n",
       "      <td>NaN</td>\n",
       "      <td>NaN</td>\n",
       "      <td>NaN</td>\n",
       "      <td>NaN</td>\n",
       "      <td>NaN</td>\n",
       "    </tr>\n",
       "    <tr>\n",
       "      <th>11</th>\n",
       "      <td>2.20</td>\n",
       "      <td>3.565</td>\n",
       "      <td>2.758533</td>\n",
       "      <td>531.2</td>\n",
       "      <td>226.0</td>\n",
       "      <td>135.8323</td>\n",
       "      <td>NaN</td>\n",
       "      <td>NaN</td>\n",
       "      <td>NaN</td>\n",
       "      <td>NaN</td>\n",
       "      <td>NaN</td>\n",
       "    </tr>\n",
       "    <tr>\n",
       "      <th>12</th>\n",
       "      <td>2.40</td>\n",
       "      <td>3.815</td>\n",
       "      <td>3.008533</td>\n",
       "      <td>579.4</td>\n",
       "      <td>261.6</td>\n",
       "      <td>124.4824</td>\n",
       "      <td>NaN</td>\n",
       "      <td>NaN</td>\n",
       "      <td>NaN</td>\n",
       "      <td>NaN</td>\n",
       "      <td>NaN</td>\n",
       "    </tr>\n",
       "    <tr>\n",
       "      <th>13</th>\n",
       "      <td>2.60</td>\n",
       "      <td>3.915</td>\n",
       "      <td>3.108533</td>\n",
       "      <td>627.7</td>\n",
       "      <td>298.4</td>\n",
       "      <td>112.2141</td>\n",
       "      <td>NaN</td>\n",
       "      <td>NaN</td>\n",
       "      <td>NaN</td>\n",
       "      <td>NaN</td>\n",
       "      <td>NaN</td>\n",
       "    </tr>\n",
       "    <tr>\n",
       "      <th>14</th>\n",
       "      <td>2.80</td>\n",
       "      <td>3.881</td>\n",
       "      <td>3.074533</td>\n",
       "      <td>676.0</td>\n",
       "      <td>336.4</td>\n",
       "      <td>99.8700</td>\n",
       "      <td>NaN</td>\n",
       "      <td>NaN</td>\n",
       "      <td>NaN</td>\n",
       "      <td>NaN</td>\n",
       "      <td>NaN</td>\n",
       "    </tr>\n",
       "    <tr>\n",
       "      <th>15</th>\n",
       "      <td>3.00</td>\n",
       "      <td>2.449</td>\n",
       "      <td>1.642533</td>\n",
       "      <td>724.3</td>\n",
       "      <td>375.4</td>\n",
       "      <td>65.8722</td>\n",
       "      <td>NaN</td>\n",
       "      <td>NaN</td>\n",
       "      <td>NaN</td>\n",
       "      <td>NaN</td>\n",
       "      <td>NaN</td>\n",
       "    </tr>\n",
       "    <tr>\n",
       "      <th>16</th>\n",
       "      <td>3.20</td>\n",
       "      <td>2.332</td>\n",
       "      <td>1.525533</td>\n",
       "      <td>772.6</td>\n",
       "      <td>415.3</td>\n",
       "      <td>57.6402</td>\n",
       "      <td>NaN</td>\n",
       "      <td>NaN</td>\n",
       "      <td>NaN</td>\n",
       "      <td>NaN</td>\n",
       "      <td>NaN</td>\n",
       "    </tr>\n",
       "    <tr>\n",
       "      <th>17</th>\n",
       "      <td>3.40</td>\n",
       "      <td>1.383</td>\n",
       "      <td>0.576533</td>\n",
       "      <td>820.9</td>\n",
       "      <td>455.9</td>\n",
       "      <td>32.4547</td>\n",
       "      <td>NaN</td>\n",
       "      <td>NaN</td>\n",
       "      <td>NaN</td>\n",
       "      <td>NaN</td>\n",
       "      <td>NaN</td>\n",
       "    </tr>\n",
       "    <tr>\n",
       "      <th>18</th>\n",
       "      <td>3.60</td>\n",
       "      <td>1.299</td>\n",
       "      <td>0.492533</td>\n",
       "      <td>869.2</td>\n",
       "      <td>497.2</td>\n",
       "      <td>27.5773</td>\n",
       "      <td>NaN</td>\n",
       "      <td>NaN</td>\n",
       "      <td>NaN</td>\n",
       "      <td>NaN</td>\n",
       "      <td>NaN</td>\n",
       "    </tr>\n",
       "    <tr>\n",
       "      <th>19</th>\n",
       "      <td>3.80</td>\n",
       "      <td>2.132</td>\n",
       "      <td>1.325533</td>\n",
       "      <td>917.4</td>\n",
       "      <td>539.2</td>\n",
       "      <td>41.5353</td>\n",
       "      <td>NaN</td>\n",
       "      <td>NaN</td>\n",
       "      <td>NaN</td>\n",
       "      <td>NaN</td>\n",
       "      <td>NaN</td>\n",
       "    </tr>\n",
       "    <tr>\n",
       "      <th>20</th>\n",
       "      <td>3.90</td>\n",
       "      <td>2.682</td>\n",
       "      <td>1.875533</td>\n",
       "      <td>941.6</td>\n",
       "      <td>560.3</td>\n",
       "      <td>47.4799</td>\n",
       "      <td>NaN</td>\n",
       "      <td>NaN</td>\n",
       "      <td>NaN</td>\n",
       "      <td>NaN</td>\n",
       "      <td>NaN</td>\n",
       "    </tr>\n",
       "    <tr>\n",
       "      <th>21</th>\n",
       "      <td>3.95</td>\n",
       "      <td>3.731</td>\n",
       "      <td>2.924533</td>\n",
       "      <td>953.7</td>\n",
       "      <td>570.9</td>\n",
       "      <td>58.1360</td>\n",
       "      <td>NaN</td>\n",
       "      <td>NaN</td>\n",
       "      <td>NaN</td>\n",
       "      <td>NaN</td>\n",
       "      <td>NaN</td>\n",
       "    </tr>\n",
       "    <tr>\n",
       "      <th>22</th>\n",
       "      <td>4.00</td>\n",
       "      <td>3.931</td>\n",
       "      <td>3.124533</td>\n",
       "      <td>965.7</td>\n",
       "      <td>581.6</td>\n",
       "      <td>58.9631</td>\n",
       "      <td>NaN</td>\n",
       "      <td>NaN</td>\n",
       "      <td>NaN</td>\n",
       "      <td>NaN</td>\n",
       "      <td>NaN</td>\n",
       "    </tr>\n",
       "    <tr>\n",
       "      <th>23</th>\n",
       "      <td>4.20</td>\n",
       "      <td>4.115</td>\n",
       "      <td>3.308533</td>\n",
       "      <td>1014.0</td>\n",
       "      <td>624.5</td>\n",
       "      <td>56.3826</td>\n",
       "      <td>NaN</td>\n",
       "      <td>NaN</td>\n",
       "      <td>NaN</td>\n",
       "      <td>NaN</td>\n",
       "      <td>NaN</td>\n",
       "    </tr>\n",
       "    <tr>\n",
       "      <th>24</th>\n",
       "      <td>4.30</td>\n",
       "      <td>3.981</td>\n",
       "      <td>3.174533</td>\n",
       "      <td>1038.2</td>\n",
       "      <td>646.1</td>\n",
       "      <td>53.3214</td>\n",
       "      <td>NaN</td>\n",
       "      <td>NaN</td>\n",
       "      <td>NaN</td>\n",
       "      <td>NaN</td>\n",
       "      <td>NaN</td>\n",
       "    </tr>\n",
       "    <tr>\n",
       "      <th>25</th>\n",
       "      <td>4.40</td>\n",
       "      <td>2.315</td>\n",
       "      <td>1.508533</td>\n",
       "      <td>1062.3</td>\n",
       "      <td>667.8</td>\n",
       "      <td>35.5548</td>\n",
       "      <td>NaN</td>\n",
       "      <td>NaN</td>\n",
       "      <td>NaN</td>\n",
       "      <td>NaN</td>\n",
       "      <td>NaN</td>\n",
       "    </tr>\n",
       "  </tbody>\n",
       "</table>\n",
       "</div>"
      ],
      "text/plain": [
       "    current      N       N_1       p      T    mkFermi  Unnamed: 6  фон  \\\n",
       "0      0.00  0.766 -0.040467     0.0    0.0     0.0000         NaN  NaN   \n",
       "1      0.20  0.950  0.143533    48.3    2.3  1152.3714         NaN  NaN   \n",
       "2      0.40  0.950  0.143533    96.6    9.0   407.4248         NaN  NaN   \n",
       "3      0.60  0.966  0.159533   144.9   20.1   233.8139         NaN  NaN   \n",
       "4      0.80  0.966  0.159533   193.1   35.3   151.8592         NaN  NaN   \n",
       "5      1.00  1.083  0.276533   241.4   54.2   141.7545         NaN  NaN   \n",
       "6      1.20  1.533  0.726533   289.7   76.4   173.5591         NaN  NaN   \n",
       "7      1.40  2.016  1.209533   338.0  101.7   177.4234         NaN  NaN   \n",
       "8      1.60  2.265  1.458533   386.3  129.6   159.4467         NaN  NaN   \n",
       "9      1.80  2.915  2.108533   434.6  159.8   160.5337         NaN  NaN   \n",
       "10     2.00  3.415  2.608533   482.9  192.0   152.4020         NaN  NaN   \n",
       "11     2.20  3.565  2.758533   531.2  226.0   135.8323         NaN  NaN   \n",
       "12     2.40  3.815  3.008533   579.4  261.6   124.4824         NaN  NaN   \n",
       "13     2.60  3.915  3.108533   627.7  298.4   112.2141         NaN  NaN   \n",
       "14     2.80  3.881  3.074533   676.0  336.4    99.8700         NaN  NaN   \n",
       "15     3.00  2.449  1.642533   724.3  375.4    65.8722         NaN  NaN   \n",
       "16     3.20  2.332  1.525533   772.6  415.3    57.6402         NaN  NaN   \n",
       "17     3.40  1.383  0.576533   820.9  455.9    32.4547         NaN  NaN   \n",
       "18     3.60  1.299  0.492533   869.2  497.2    27.5773         NaN  NaN   \n",
       "19     3.80  2.132  1.325533   917.4  539.2    41.5353         NaN  NaN   \n",
       "20     3.90  2.682  1.875533   941.6  560.3    47.4799         NaN  NaN   \n",
       "21     3.95  3.731  2.924533   953.7  570.9    58.1360         NaN  NaN   \n",
       "22     4.00  3.931  3.124533   965.7  581.6    58.9631         NaN  NaN   \n",
       "23     4.20  4.115  3.308533  1014.0  624.5    56.3826         NaN  NaN   \n",
       "24     4.30  3.981  3.174533  1038.2  646.1    53.3214         NaN  NaN   \n",
       "25     4.40  2.315  1.508533  1062.3  667.8    35.5548         NaN  NaN   \n",
       "\n",
       "    по 100 с     ток 0 Unnamed: 10  \n",
       "0        NaN        Nф         dNф  \n",
       "1        1.0    0.7398       0.086  \n",
       "2        2.0    0.8298       0.091  \n",
       "3        3.0    0.8498       0.092  \n",
       "4        NaN  0.806467   0.0896667  \n",
       "5        NaN       NaN         NaN  \n",
       "6        NaN       NaN         NaN  \n",
       "7        NaN       NaN         NaN  \n",
       "8        NaN       NaN         NaN  \n",
       "9        NaN       NaN         NaN  \n",
       "10       NaN       NaN         NaN  \n",
       "11       NaN       NaN         NaN  \n",
       "12       NaN       NaN         NaN  \n",
       "13       NaN       NaN         NaN  \n",
       "14       NaN       NaN         NaN  \n",
       "15       NaN       NaN         NaN  \n",
       "16       NaN       NaN         NaN  \n",
       "17       NaN       NaN         NaN  \n",
       "18       NaN       NaN         NaN  \n",
       "19       NaN       NaN         NaN  \n",
       "20       NaN       NaN         NaN  \n",
       "21       NaN       NaN         NaN  \n",
       "22       NaN       NaN         NaN  \n",
       "23       NaN       NaN         NaN  \n",
       "24       NaN       NaN         NaN  \n",
       "25       NaN       NaN         NaN  "
      ]
     },
     "execution_count": 5,
     "metadata": {},
     "output_type": "execute_result"
    }
   ],
   "source": [
    "data\n"
   ]
  },
  {
   "cell_type": "code",
   "execution_count": 6,
   "metadata": {},
   "outputs": [
    {
     "data": {
      "text/plain": [
       "<matplotlib.collections.PathCollection at 0x2c4936f2fd0>"
      ]
     },
     "execution_count": 6,
     "metadata": {},
     "output_type": "execute_result"
    },
    {
     "data": {
      "image/png": "[encoded data removed]",
      "text/plain": [
       "<Figure size 1080x720 with 1 Axes>"
      ]
     },
     "metadata": {},
     "output_type": "display_data"
    }
   ],
   "source": [
    "plt.rcParams[\"figure.figsize\"] = (15,10)\n",
    "cur = np.array(data['current'])\n",
    "N = np.array(data['N_1'])\n",
    "plt.xlabel('I,A')\n",
    "plt.ylabel('N, 1/c')\n",
    "plt.scatter(cur, N, color = 'k')\n",
    "\n",
    "#x = np.linspace(1500, 3000, 500)\n",
    "#a_,b_,s_,e_ = chi_sq(theta, lmbd, None)\n",
    "#y = a_ * x + b_\n",
    "#plt.plot(x, y, lw = 1)"
   ]
  },
  {
   "cell_type": "code",
   "execution_count": 7,
   "metadata": {},
   "outputs": [
    {
     "data": {
      "text/plain": [
       "[<matplotlib.lines.Line2D at 0x2c493ede550>]"
      ]
     },
     "execution_count": 7,
     "metadata": {},
     "output_type": "execute_result"
    },
    {
     "data": {
      "image/png": "[encoded data removed]",
      "text/plain": [
       "<Figure size 1080x720 with 1 Axes>"
      ]
     },
     "metadata": {},
     "output_type": "display_data"
    }
   ],
   "source": [
    "plt.rcParams[\"figure.figsize\"] = (15,10)\n",
    "cur = np.array(data['current'])\n",
    "p = np.array(data['p'])\n",
    "plt.xlabel('I,A')\n",
    "plt.ylabel('p, кЭв/c')\n",
    "plt.scatter(cur, p, marker = '.',color = 'k')\n",
    "\n",
    "x = np.linspace(0,4.5,50)\n",
    "a,b,s,e = chi_sq(cur,p, None)\n",
    "y = a*x + b\n",
    "\n",
    "plt.plot(x,y, lw = 0.5, color = 'k')"
   ]
  },
  {
   "cell_type": "markdown",
   "metadata": {},
   "source": [
    "Коэф наклона и его погрешность "
   ]
  },
  {
   "cell_type": "code",
   "execution_count": 8,
   "metadata": {},
   "outputs": [
    {
     "data": {
      "text/plain": [
       "(241.43347979052547, 0.004242585068538957)"
      ]
     },
     "execution_count": 8,
     "metadata": {},
     "output_type": "execute_result"
    }
   ],
   "source": [
    "a,s"
   ]
  },
  {
   "cell_type": "code",
   "execution_count": 9,
   "metadata": {},
   "outputs": [
    {
     "data": {
      "text/plain": [
       "[<matplotlib.lines.Line2D at 0x2c4939e3070>]"
      ]
     },
     "execution_count": 9,
     "metadata": {},
     "output_type": "execute_result"
    },
    {
     "data": {
      "image/png": "[encoded data removed]",
      "text/plain": [
       "<Figure size 1080x720 with 1 Axes>"
      ]
     },
     "metadata": {},
     "output_type": "display_data"
    }
   ],
   "source": [
    "plt.rcParams[\"figure.figsize\"] = (15,10)\n",
    "cur = np.array(data['current'])\n",
    "T = np.array(data['T'])\n",
    "plt.xlabel('I,A')\n",
    "plt.ylabel('T, кЭв')\n",
    "plt.scatter(cur, T, marker = '.',color = 'k')\n",
    "\n",
    "x = np.linspace(1,4.5,50)\n",
    "a_1,b_1,s_1,e_1 = chi_sq(cur[8:26],T[8:26], None)\n",
    "y = a_1*x + b_1\n",
    "\n",
    "plt.plot(x,y, lw = 0.5, color = 'k')"
   ]
  },
  {
   "cell_type": "markdown",
   "metadata": {},
   "source": [
    "Коэф наклона и погрешность"
   ]
  },
  {
   "cell_type": "code",
   "execution_count": 10,
   "metadata": {},
   "outputs": [
    {
     "data": {
      "text/plain": [
       "(194.9168223847299, 2.1473033060803197)"
      ]
     },
     "execution_count": 10,
     "metadata": {},
     "output_type": "execute_result"
    }
   ],
   "source": [
    "a_1,s_1"
   ]
  },
  {
   "cell_type": "code",
   "execution_count": 11,
   "metadata": {},
   "outputs": [
    {
     "data": {
      "text/plain": [
       "[<matplotlib.lines.Line2D at 0x2c49432e250>]"
      ]
     },
     "execution_count": 11,
     "metadata": {},
     "output_type": "execute_result"
    },
    {
     "data": {
      "image/png": "[encoded data removed]",
      "text/plain": [
       "<Figure size 1080x720 with 1 Axes>"
      ]
     },
     "metadata": {},
     "output_type": "display_data"
    }
   ],
   "source": [
    "plt.rcParams[\"figure.figsize\"] = (15,10)\n",
    "fermi = np.array(data['mkFermi'])\n",
    "T = np.array(data['T'])\n",
    "plt.xlabel('T, кЭв')\n",
    "plt.ylabel('mkFermi')\n",
    "plt.scatter(T, fermi, marker = '.',color = 'k')\n",
    "\n",
    "x = np.linspace(50,800,100)\n",
    "a_2,b_2,s_2,e_2 = chi_sq(T[7:20],fermi[7:20], None)\n",
    "y = a_2*x + b_2\n",
    "\n",
    "plt.plot(x,y, lw = 0.5, color = 'k')"
   ]
  },
  {
   "cell_type": "markdown",
   "metadata": {},
   "source": [
    "Tmax по пересечению с осью абсцисс"
   ]
  },
  {
   "cell_type": "code",
   "execution_count": 12,
   "metadata": {},
   "outputs": [],
   "source": [
    "Tmax = -b_2/a_2\n",
    "sigma = Tmax*np.sqrt((s_2/a_2)**2 + (e_2/b_2)**2)"
   ]
  },
  {
   "cell_type": "code",
   "execution_count": 13,
   "metadata": {},
   "outputs": [
    {
     "data": {
      "text/plain": [
       "(591.5047708698767, 40.69492390283199)"
      ]
     },
     "execution_count": 13,
     "metadata": {},
     "output_type": "execute_result"
    }
   ],
   "source": [
    "Tmax, sigma"
   ]
  },
  {
   "cell_type": "code",
   "execution_count": 14,
   "metadata": {},
   "outputs": [
    {
     "data": {
      "text/plain": [
       "(-0.364026404388881, 0.02177146944016284)"
      ]
     },
     "execution_count": 14,
     "metadata": {},
     "output_type": "execute_result"
    }
   ],
   "source": [
    "a_2,s_2"
   ]
  },
  {
   "cell_type": "code",
   "execution_count": null,
   "metadata": {},
   "outputs": [],
   "source": []
  },
  {
   "cell_type": "code",
   "execution_count": null,
   "metadata": {},
   "outputs": [],
   "source": []
  }
 ],
 "metadata": {
  "kernelspec": {
   "display_name": "Python 3",
   "language": "python",
   "name": "python3"
  },
  "language_info": {
   "codemirror_mode": {
    "name": "ipython",
    "version": 3
   },
   "file_extension": ".py",
   "mimetype": "text/x-python",
   "name": "python",
   "nbconvert_exporter": "python",
   "pygments_lexer": "ipython3",
   "version": "3.8.5"
  }
 },
 "nbformat": 4,
 "nbformat_minor": 4
}
