{
 "cells": [
  {
   "cell_type": "code",
   "execution_count": 2,
   "metadata": {},
   "outputs": [],
   "source": [
    "%matplotlib inline\n",
    "import pandas as pd\n",
    "import numpy as np\n",
    "import matplotlib.pyplot as plt\n",
    "import seaborn as sns\n",
    "from scipy.optimize import curve_fit"
   ]
  },
  {
   "cell_type": "code",
   "execution_count": 3,
   "metadata": {},
   "outputs": [],
   "source": [
    "df = pd.read_excel('1.1_photoeffect.xlsx')"
   ]
  },
  {
   "cell_type": "code",
   "execution_count": 4,
   "metadata": {},
   "outputs": [],
   "source": [
    "def chi_sq(x, y, err):\n",
    "    function = lambda x, a, b: a * x + b\n",
    "    popt, pcov = curve_fit(function, xdata=x, ydata=y, sigma=err)\n",
    "\n",
    "    sigma_a = np.sqrt(pcov[0, 0])\n",
    "    sigma_b = np.sqrt(pcov[1, 1])\n",
    "\n",
    "    return popt[0], popt[1], sigma_a, sigma_b"
   ]
  },
  {
   "cell_type": "code",
   "execution_count": 4,
   "metadata": {},
   "outputs": [
    {
     "data": {
      "text/html": [
       "<div>\n",
       "<style scoped>\n",
       "    .dataframe tbody tr th:only-of-type {\n",
       "        vertical-align: middle;\n",
       "    }\n",
       "\n",
       "    .dataframe tbody tr th {\n",
       "        vertical-align: top;\n",
       "    }\n",
       "\n",
       "    .dataframe thead th {\n",
       "        text-align: right;\n",
       "    }\n",
       "</style>\n",
       "<table border=\"1\" class=\"dataframe\">\n",
       "  <thead>\n",
       "    <tr style=\"text-align: right;\">\n",
       "      <th></th>\n",
       "      <th>color</th>\n",
       "      <th>value</th>\n",
       "      <th>mis</th>\n",
       "      <th>Unnamed: 3</th>\n",
       "      <th>green_voltage</th>\n",
       "      <th>v_s</th>\n",
       "      <th>v_eps</th>\n",
       "      <th>green_current</th>\n",
       "      <th>1978_voltage</th>\n",
       "      <th>1978_current</th>\n",
       "      <th>...</th>\n",
       "      <th>1828_sq</th>\n",
       "      <th>1828_sigma</th>\n",
       "      <th>1778_vol</th>\n",
       "      <th>1778_cur</th>\n",
       "      <th>1778_sq</th>\n",
       "      <th>1778_sigma</th>\n",
       "      <th>1728_vol</th>\n",
       "      <th>1728_cur</th>\n",
       "      <th>1728_sq</th>\n",
       "      <th>1728_sigma</th>\n",
       "    </tr>\n",
       "  </thead>\n",
       "  <tbody>\n",
       "    <tr>\n",
       "      <th>0</th>\n",
       "      <td>yellow</td>\n",
       "      <td>2192.0</td>\n",
       "      <td>1.0</td>\n",
       "      <td>0.000456</td>\n",
       "      <td>3.314</td>\n",
       "      <td>0.001</td>\n",
       "      <td>0.000302</td>\n",
       "      <td>0.6480</td>\n",
       "      <td>-1.924</td>\n",
       "      <td>-0.061</td>\n",
       "      <td>...</td>\n",
       "      <td>0.225832</td>\n",
       "      <td>0.002214</td>\n",
       "      <td>-1.363</td>\n",
       "      <td>-0.050</td>\n",
       "      <td>-0.223607</td>\n",
       "      <td>-0.002236</td>\n",
       "      <td>-0.696</td>\n",
       "      <td>0.066</td>\n",
       "      <td>0.256905</td>\n",
       "      <td>0.001946</td>\n",
       "    </tr>\n",
       "    <tr>\n",
       "      <th>1</th>\n",
       "      <td>green</td>\n",
       "      <td>1928.0</td>\n",
       "      <td>1.0</td>\n",
       "      <td>0.000519</td>\n",
       "      <td>3.200</td>\n",
       "      <td>0.001</td>\n",
       "      <td>0.000313</td>\n",
       "      <td>0.6480</td>\n",
       "      <td>-1.965</td>\n",
       "      <td>-0.061</td>\n",
       "      <td>...</td>\n",
       "      <td>0.161245</td>\n",
       "      <td>0.003101</td>\n",
       "      <td>-1.321</td>\n",
       "      <td>-0.050</td>\n",
       "      <td>-0.223607</td>\n",
       "      <td>-0.002236</td>\n",
       "      <td>-0.750</td>\n",
       "      <td>0.029</td>\n",
       "      <td>0.170294</td>\n",
       "      <td>0.002936</td>\n",
       "    </tr>\n",
       "    <tr>\n",
       "      <th>2</th>\n",
       "      <td>orange</td>\n",
       "      <td>2326.0</td>\n",
       "      <td>1.0</td>\n",
       "      <td>0.000430</td>\n",
       "      <td>2.640</td>\n",
       "      <td>0.001</td>\n",
       "      <td>0.000379</td>\n",
       "      <td>0.6480</td>\n",
       "      <td>-1.941</td>\n",
       "      <td>-0.060</td>\n",
       "      <td>...</td>\n",
       "      <td>0.109545</td>\n",
       "      <td>0.004564</td>\n",
       "      <td>-1.269</td>\n",
       "      <td>-0.050</td>\n",
       "      <td>-0.223607</td>\n",
       "      <td>-0.002236</td>\n",
       "      <td>-0.782</td>\n",
       "      <td>0.011</td>\n",
       "      <td>0.104881</td>\n",
       "      <td>0.004767</td>\n",
       "    </tr>\n",
       "    <tr>\n",
       "      <th>3</th>\n",
       "      <td>red_1</td>\n",
       "      <td>2378.0</td>\n",
       "      <td>1.0</td>\n",
       "      <td>0.000421</td>\n",
       "      <td>2.280</td>\n",
       "      <td>0.001</td>\n",
       "      <td>0.000439</td>\n",
       "      <td>0.6480</td>\n",
       "      <td>-1.934</td>\n",
       "      <td>-0.059</td>\n",
       "      <td>...</td>\n",
       "      <td>0.031623</td>\n",
       "      <td>0.015811</td>\n",
       "      <td>-1.173</td>\n",
       "      <td>-0.048</td>\n",
       "      <td>-0.219089</td>\n",
       "      <td>-0.002282</td>\n",
       "      <td>-0.804</td>\n",
       "      <td>0.000</td>\n",
       "      <td>0.000000</td>\n",
       "      <td>0.001000</td>\n",
       "    </tr>\n",
       "    <tr>\n",
       "      <th>4</th>\n",
       "      <td>red_2</td>\n",
       "      <td>2406.0</td>\n",
       "      <td>1.0</td>\n",
       "      <td>0.000416</td>\n",
       "      <td>1.500</td>\n",
       "      <td>0.001</td>\n",
       "      <td>0.000667</td>\n",
       "      <td>0.6480</td>\n",
       "      <td>-1.881</td>\n",
       "      <td>-0.058</td>\n",
       "      <td>...</td>\n",
       "      <td>-0.089443</td>\n",
       "      <td>-0.005590</td>\n",
       "      <td>-1.121</td>\n",
       "      <td>-0.047</td>\n",
       "      <td>-0.216795</td>\n",
       "      <td>-0.002306</td>\n",
       "      <td>-0.824</td>\n",
       "      <td>-0.009</td>\n",
       "      <td>-0.094868</td>\n",
       "      <td>-0.005270</td>\n",
       "    </tr>\n",
       "    <tr>\n",
       "      <th>5</th>\n",
       "      <td>red_3</td>\n",
       "      <td>2432.0</td>\n",
       "      <td>1.0</td>\n",
       "      <td>0.000411</td>\n",
       "      <td>1.000</td>\n",
       "      <td>0.001</td>\n",
       "      <td>0.001000</td>\n",
       "      <td>0.6480</td>\n",
       "      <td>-1.700</td>\n",
       "      <td>-0.056</td>\n",
       "      <td>...</td>\n",
       "      <td>-0.118322</td>\n",
       "      <td>-0.004226</td>\n",
       "      <td>-1.092</td>\n",
       "      <td>-0.046</td>\n",
       "      <td>-0.214476</td>\n",
       "      <td>-0.002331</td>\n",
       "      <td>-0.835</td>\n",
       "      <td>-0.013</td>\n",
       "      <td>-0.114018</td>\n",
       "      <td>-0.004385</td>\n",
       "    </tr>\n",
       "    <tr>\n",
       "      <th>6</th>\n",
       "      <td>NaN</td>\n",
       "      <td>NaN</td>\n",
       "      <td>NaN</td>\n",
       "      <td>NaN</td>\n",
       "      <td>0.839</td>\n",
       "      <td>0.001</td>\n",
       "      <td>0.001192</td>\n",
       "      <td>0.6460</td>\n",
       "      <td>-1.318</td>\n",
       "      <td>-0.054</td>\n",
       "      <td>...</td>\n",
       "      <td>-0.151658</td>\n",
       "      <td>-0.003297</td>\n",
       "      <td>-1.048</td>\n",
       "      <td>-0.044</td>\n",
       "      <td>-0.209762</td>\n",
       "      <td>-0.002384</td>\n",
       "      <td>-0.860</td>\n",
       "      <td>-0.021</td>\n",
       "      <td>-0.144914</td>\n",
       "      <td>-0.003450</td>\n",
       "    </tr>\n",
       "    <tr>\n",
       "      <th>7</th>\n",
       "      <td>NaN</td>\n",
       "      <td>NaN</td>\n",
       "      <td>NaN</td>\n",
       "      <td>NaN</td>\n",
       "      <td>0.779</td>\n",
       "      <td>0.001</td>\n",
       "      <td>0.001284</td>\n",
       "      <td>0.6420</td>\n",
       "      <td>-1.200</td>\n",
       "      <td>-0.053</td>\n",
       "      <td>...</td>\n",
       "      <td>-0.173205</td>\n",
       "      <td>-0.002887</td>\n",
       "      <td>-1.002</td>\n",
       "      <td>-0.042</td>\n",
       "      <td>-0.204939</td>\n",
       "      <td>-0.002440</td>\n",
       "      <td>-0.894</td>\n",
       "      <td>-0.030</td>\n",
       "      <td>-0.173205</td>\n",
       "      <td>-0.002887</td>\n",
       "    </tr>\n",
       "    <tr>\n",
       "      <th>8</th>\n",
       "      <td>NaN</td>\n",
       "      <td>NaN</td>\n",
       "      <td>NaN</td>\n",
       "      <td>NaN</td>\n",
       "      <td>0.705</td>\n",
       "      <td>0.001</td>\n",
       "      <td>0.001418</td>\n",
       "      <td>0.6370</td>\n",
       "      <td>-0.977</td>\n",
       "      <td>-0.050</td>\n",
       "      <td>...</td>\n",
       "      <td>-0.187083</td>\n",
       "      <td>-0.002673</td>\n",
       "      <td>-0.974</td>\n",
       "      <td>-0.041</td>\n",
       "      <td>-0.202485</td>\n",
       "      <td>-0.002469</td>\n",
       "      <td>-0.911</td>\n",
       "      <td>-0.033</td>\n",
       "      <td>-0.181659</td>\n",
       "      <td>-0.002752</td>\n",
       "    </tr>\n",
       "    <tr>\n",
       "      <th>9</th>\n",
       "      <td>NaN</td>\n",
       "      <td>NaN</td>\n",
       "      <td>NaN</td>\n",
       "      <td>NaN</td>\n",
       "      <td>0.586</td>\n",
       "      <td>0.001</td>\n",
       "      <td>0.001706</td>\n",
       "      <td>0.6300</td>\n",
       "      <td>-0.896</td>\n",
       "      <td>-0.047</td>\n",
       "      <td>...</td>\n",
       "      <td>-0.197484</td>\n",
       "      <td>-0.002532</td>\n",
       "      <td>-0.947</td>\n",
       "      <td>-0.038</td>\n",
       "      <td>-0.194936</td>\n",
       "      <td>-0.002565</td>\n",
       "      <td>-0.931</td>\n",
       "      <td>-0.036</td>\n",
       "      <td>-0.189737</td>\n",
       "      <td>-0.002635</td>\n",
       "    </tr>\n",
       "    <tr>\n",
       "      <th>10</th>\n",
       "      <td>NaN</td>\n",
       "      <td>NaN</td>\n",
       "      <td>NaN</td>\n",
       "      <td>NaN</td>\n",
       "      <td>0.251</td>\n",
       "      <td>0.001</td>\n",
       "      <td>0.003984</td>\n",
       "      <td>0.6010</td>\n",
       "      <td>-0.854</td>\n",
       "      <td>-0.044</td>\n",
       "      <td>...</td>\n",
       "      <td>-0.207364</td>\n",
       "      <td>-0.002411</td>\n",
       "      <td>-0.916</td>\n",
       "      <td>-0.034</td>\n",
       "      <td>-0.184391</td>\n",
       "      <td>-0.002712</td>\n",
       "      <td>-0.950</td>\n",
       "      <td>-0.039</td>\n",
       "      <td>-0.197484</td>\n",
       "      <td>-0.002532</td>\n",
       "    </tr>\n",
       "    <tr>\n",
       "      <th>11</th>\n",
       "      <td>NaN</td>\n",
       "      <td>NaN</td>\n",
       "      <td>NaN</td>\n",
       "      <td>NaN</td>\n",
       "      <td>0.097</td>\n",
       "      <td>0.001</td>\n",
       "      <td>0.010309</td>\n",
       "      <td>0.5850</td>\n",
       "      <td>-0.823</td>\n",
       "      <td>-0.040</td>\n",
       "      <td>...</td>\n",
       "      <td>-0.209762</td>\n",
       "      <td>-0.002384</td>\n",
       "      <td>-0.888</td>\n",
       "      <td>-0.030</td>\n",
       "      <td>-0.173205</td>\n",
       "      <td>-0.002887</td>\n",
       "      <td>-0.978</td>\n",
       "      <td>-0.042</td>\n",
       "      <td>-0.204939</td>\n",
       "      <td>-0.002440</td>\n",
       "    </tr>\n",
       "    <tr>\n",
       "      <th>12</th>\n",
       "      <td>NaN</td>\n",
       "      <td>NaN</td>\n",
       "      <td>NaN</td>\n",
       "      <td>NaN</td>\n",
       "      <td>0.007</td>\n",
       "      <td>0.001</td>\n",
       "      <td>0.142857</td>\n",
       "      <td>0.5720</td>\n",
       "      <td>-0.801</td>\n",
       "      <td>-0.037</td>\n",
       "      <td>...</td>\n",
       "      <td>-0.214476</td>\n",
       "      <td>-0.002331</td>\n",
       "      <td>-0.849</td>\n",
       "      <td>-0.022</td>\n",
       "      <td>-0.148324</td>\n",
       "      <td>-0.003371</td>\n",
       "      <td>-1.008</td>\n",
       "      <td>-0.045</td>\n",
       "      <td>-0.212132</td>\n",
       "      <td>-0.002357</td>\n",
       "    </tr>\n",
       "    <tr>\n",
       "      <th>13</th>\n",
       "      <td>NaN</td>\n",
       "      <td>NaN</td>\n",
       "      <td>NaN</td>\n",
       "      <td>NaN</td>\n",
       "      <td>-0.331</td>\n",
       "      <td>-0.001</td>\n",
       "      <td>0.003021</td>\n",
       "      <td>0.4950</td>\n",
       "      <td>-0.778</td>\n",
       "      <td>-0.033</td>\n",
       "      <td>...</td>\n",
       "      <td>-0.219089</td>\n",
       "      <td>-0.002282</td>\n",
       "      <td>-0.826</td>\n",
       "      <td>-0.016</td>\n",
       "      <td>-0.126491</td>\n",
       "      <td>-0.003953</td>\n",
       "      <td>-1.032</td>\n",
       "      <td>-0.047</td>\n",
       "      <td>-0.216795</td>\n",
       "      <td>-0.002306</td>\n",
       "    </tr>\n",
       "    <tr>\n",
       "      <th>14</th>\n",
       "      <td>NaN</td>\n",
       "      <td>NaN</td>\n",
       "      <td>NaN</td>\n",
       "      <td>NaN</td>\n",
       "      <td>-0.494</td>\n",
       "      <td>-0.001</td>\n",
       "      <td>0.002024</td>\n",
       "      <td>0.3340</td>\n",
       "      <td>-0.753</td>\n",
       "      <td>-0.027</td>\n",
       "      <td>...</td>\n",
       "      <td>-0.219089</td>\n",
       "      <td>-0.002282</td>\n",
       "      <td>-0.799</td>\n",
       "      <td>-0.007</td>\n",
       "      <td>-0.083666</td>\n",
       "      <td>-0.005976</td>\n",
       "      <td>-1.054</td>\n",
       "      <td>-0.048</td>\n",
       "      <td>-0.219089</td>\n",
       "      <td>-0.002282</td>\n",
       "    </tr>\n",
       "    <tr>\n",
       "      <th>15</th>\n",
       "      <td>NaN</td>\n",
       "      <td>NaN</td>\n",
       "      <td>NaN</td>\n",
       "      <td>NaN</td>\n",
       "      <td>-0.536</td>\n",
       "      <td>-0.001</td>\n",
       "      <td>0.001866</td>\n",
       "      <td>0.2450</td>\n",
       "      <td>-0.735</td>\n",
       "      <td>-0.021</td>\n",
       "      <td>...</td>\n",
       "      <td>-0.223607</td>\n",
       "      <td>-0.002236</td>\n",
       "      <td>-0.779</td>\n",
       "      <td>-0.003</td>\n",
       "      <td>-0.054772</td>\n",
       "      <td>-0.009129</td>\n",
       "      <td>-1.079</td>\n",
       "      <td>-0.050</td>\n",
       "      <td>-0.223607</td>\n",
       "      <td>-0.002236</td>\n",
       "    </tr>\n",
       "    <tr>\n",
       "      <th>16</th>\n",
       "      <td>NaN</td>\n",
       "      <td>NaN</td>\n",
       "      <td>NaN</td>\n",
       "      <td>NaN</td>\n",
       "      <td>-0.580</td>\n",
       "      <td>-0.001</td>\n",
       "      <td>0.001724</td>\n",
       "      <td>0.1640</td>\n",
       "      <td>-0.719</td>\n",
       "      <td>-0.015</td>\n",
       "      <td>...</td>\n",
       "      <td>NaN</td>\n",
       "      <td>NaN</td>\n",
       "      <td>-0.745</td>\n",
       "      <td>0.020</td>\n",
       "      <td>0.141421</td>\n",
       "      <td>0.003536</td>\n",
       "      <td>-1.112</td>\n",
       "      <td>-0.050</td>\n",
       "      <td>-0.223607</td>\n",
       "      <td>-0.002236</td>\n",
       "    </tr>\n",
       "    <tr>\n",
       "      <th>17</th>\n",
       "      <td>NaN</td>\n",
       "      <td>NaN</td>\n",
       "      <td>NaN</td>\n",
       "      <td>NaN</td>\n",
       "      <td>-0.597</td>\n",
       "      <td>-0.001</td>\n",
       "      <td>0.001675</td>\n",
       "      <td>0.1400</td>\n",
       "      <td>-0.710</td>\n",
       "      <td>-0.011</td>\n",
       "      <td>...</td>\n",
       "      <td>NaN</td>\n",
       "      <td>NaN</td>\n",
       "      <td>-0.730</td>\n",
       "      <td>0.028</td>\n",
       "      <td>0.167332</td>\n",
       "      <td>0.002988</td>\n",
       "      <td>NaN</td>\n",
       "      <td>NaN</td>\n",
       "      <td>NaN</td>\n",
       "      <td>NaN</td>\n",
       "    </tr>\n",
       "    <tr>\n",
       "      <th>18</th>\n",
       "      <td>NaN</td>\n",
       "      <td>NaN</td>\n",
       "      <td>NaN</td>\n",
       "      <td>NaN</td>\n",
       "      <td>-0.615</td>\n",
       "      <td>-0.001</td>\n",
       "      <td>0.001626</td>\n",
       "      <td>0.1150</td>\n",
       "      <td>-0.698</td>\n",
       "      <td>-0.005</td>\n",
       "      <td>...</td>\n",
       "      <td>NaN</td>\n",
       "      <td>NaN</td>\n",
       "      <td>-0.719</td>\n",
       "      <td>0.036</td>\n",
       "      <td>0.189737</td>\n",
       "      <td>0.002635</td>\n",
       "      <td>NaN</td>\n",
       "      <td>NaN</td>\n",
       "      <td>NaN</td>\n",
       "      <td>NaN</td>\n",
       "    </tr>\n",
       "    <tr>\n",
       "      <th>19</th>\n",
       "      <td>NaN</td>\n",
       "      <td>NaN</td>\n",
       "      <td>NaN</td>\n",
       "      <td>NaN</td>\n",
       "      <td>-0.634</td>\n",
       "      <td>-0.001</td>\n",
       "      <td>0.001577</td>\n",
       "      <td>0.0093</td>\n",
       "      <td>-0.673</td>\n",
       "      <td>0.012</td>\n",
       "      <td>...</td>\n",
       "      <td>NaN</td>\n",
       "      <td>NaN</td>\n",
       "      <td>-0.696</td>\n",
       "      <td>0.052</td>\n",
       "      <td>0.228035</td>\n",
       "      <td>0.002193</td>\n",
       "      <td>NaN</td>\n",
       "      <td>NaN</td>\n",
       "      <td>NaN</td>\n",
       "      <td>NaN</td>\n",
       "    </tr>\n",
       "    <tr>\n",
       "      <th>20</th>\n",
       "      <td>NaN</td>\n",
       "      <td>NaN</td>\n",
       "      <td>NaN</td>\n",
       "      <td>NaN</td>\n",
       "      <td>-0.643</td>\n",
       "      <td>-0.001</td>\n",
       "      <td>0.001555</td>\n",
       "      <td>0.0820</td>\n",
       "      <td>-0.632</td>\n",
       "      <td>0.042</td>\n",
       "      <td>...</td>\n",
       "      <td>NaN</td>\n",
       "      <td>NaN</td>\n",
       "      <td>NaN</td>\n",
       "      <td>NaN</td>\n",
       "      <td>NaN</td>\n",
       "      <td>NaN</td>\n",
       "      <td>NaN</td>\n",
       "      <td>NaN</td>\n",
       "      <td>NaN</td>\n",
       "      <td>NaN</td>\n",
       "    </tr>\n",
       "    <tr>\n",
       "      <th>21</th>\n",
       "      <td>NaN</td>\n",
       "      <td>NaN</td>\n",
       "      <td>NaN</td>\n",
       "      <td>NaN</td>\n",
       "      <td>-0.660</td>\n",
       "      <td>-0.001</td>\n",
       "      <td>0.001515</td>\n",
       "      <td>0.0660</td>\n",
       "      <td>-0.650</td>\n",
       "      <td>0.027</td>\n",
       "      <td>...</td>\n",
       "      <td>NaN</td>\n",
       "      <td>NaN</td>\n",
       "      <td>NaN</td>\n",
       "      <td>NaN</td>\n",
       "      <td>NaN</td>\n",
       "      <td>NaN</td>\n",
       "      <td>NaN</td>\n",
       "      <td>NaN</td>\n",
       "      <td>NaN</td>\n",
       "      <td>NaN</td>\n",
       "    </tr>\n",
       "    <tr>\n",
       "      <th>22</th>\n",
       "      <td>NaN</td>\n",
       "      <td>NaN</td>\n",
       "      <td>NaN</td>\n",
       "      <td>NaN</td>\n",
       "      <td>-0.678</td>\n",
       "      <td>-0.001</td>\n",
       "      <td>0.001475</td>\n",
       "      <td>0.0510</td>\n",
       "      <td>NaN</td>\n",
       "      <td>NaN</td>\n",
       "      <td>...</td>\n",
       "      <td>NaN</td>\n",
       "      <td>NaN</td>\n",
       "      <td>NaN</td>\n",
       "      <td>NaN</td>\n",
       "      <td>NaN</td>\n",
       "      <td>NaN</td>\n",
       "      <td>NaN</td>\n",
       "      <td>NaN</td>\n",
       "      <td>NaN</td>\n",
       "      <td>NaN</td>\n",
       "    </tr>\n",
       "    <tr>\n",
       "      <th>23</th>\n",
       "      <td>NaN</td>\n",
       "      <td>NaN</td>\n",
       "      <td>NaN</td>\n",
       "      <td>NaN</td>\n",
       "      <td>-0.695</td>\n",
       "      <td>-0.001</td>\n",
       "      <td>0.001439</td>\n",
       "      <td>0.0380</td>\n",
       "      <td>NaN</td>\n",
       "      <td>NaN</td>\n",
       "      <td>...</td>\n",
       "      <td>NaN</td>\n",
       "      <td>NaN</td>\n",
       "      <td>NaN</td>\n",
       "      <td>NaN</td>\n",
       "      <td>NaN</td>\n",
       "      <td>NaN</td>\n",
       "      <td>NaN</td>\n",
       "      <td>NaN</td>\n",
       "      <td>NaN</td>\n",
       "      <td>NaN</td>\n",
       "    </tr>\n",
       "    <tr>\n",
       "      <th>24</th>\n",
       "      <td>NaN</td>\n",
       "      <td>NaN</td>\n",
       "      <td>NaN</td>\n",
       "      <td>NaN</td>\n",
       "      <td>-0.724</td>\n",
       "      <td>-0.001</td>\n",
       "      <td>0.001381</td>\n",
       "      <td>0.0210</td>\n",
       "      <td>NaN</td>\n",
       "      <td>NaN</td>\n",
       "      <td>...</td>\n",
       "      <td>NaN</td>\n",
       "      <td>NaN</td>\n",
       "      <td>NaN</td>\n",
       "      <td>NaN</td>\n",
       "      <td>NaN</td>\n",
       "      <td>NaN</td>\n",
       "      <td>NaN</td>\n",
       "      <td>NaN</td>\n",
       "      <td>NaN</td>\n",
       "      <td>NaN</td>\n",
       "    </tr>\n",
       "    <tr>\n",
       "      <th>25</th>\n",
       "      <td>NaN</td>\n",
       "      <td>NaN</td>\n",
       "      <td>NaN</td>\n",
       "      <td>NaN</td>\n",
       "      <td>-0.732</td>\n",
       "      <td>-0.001</td>\n",
       "      <td>0.001366</td>\n",
       "      <td>0.0160</td>\n",
       "      <td>NaN</td>\n",
       "      <td>NaN</td>\n",
       "      <td>...</td>\n",
       "      <td>NaN</td>\n",
       "      <td>NaN</td>\n",
       "      <td>NaN</td>\n",
       "      <td>NaN</td>\n",
       "      <td>NaN</td>\n",
       "      <td>NaN</td>\n",
       "      <td>NaN</td>\n",
       "      <td>NaN</td>\n",
       "      <td>NaN</td>\n",
       "      <td>NaN</td>\n",
       "    </tr>\n",
       "    <tr>\n",
       "      <th>26</th>\n",
       "      <td>NaN</td>\n",
       "      <td>NaN</td>\n",
       "      <td>NaN</td>\n",
       "      <td>NaN</td>\n",
       "      <td>-0.749</td>\n",
       "      <td>-0.001</td>\n",
       "      <td>0.001335</td>\n",
       "      <td>0.0100</td>\n",
       "      <td>NaN</td>\n",
       "      <td>NaN</td>\n",
       "      <td>...</td>\n",
       "      <td>NaN</td>\n",
       "      <td>NaN</td>\n",
       "      <td>NaN</td>\n",
       "      <td>NaN</td>\n",
       "      <td>NaN</td>\n",
       "      <td>NaN</td>\n",
       "      <td>NaN</td>\n",
       "      <td>NaN</td>\n",
       "      <td>NaN</td>\n",
       "      <td>NaN</td>\n",
       "    </tr>\n",
       "    <tr>\n",
       "      <th>27</th>\n",
       "      <td>NaN</td>\n",
       "      <td>NaN</td>\n",
       "      <td>NaN</td>\n",
       "      <td>NaN</td>\n",
       "      <td>-0.757</td>\n",
       "      <td>-0.001</td>\n",
       "      <td>0.001321</td>\n",
       "      <td>0.0060</td>\n",
       "      <td>NaN</td>\n",
       "      <td>NaN</td>\n",
       "      <td>...</td>\n",
       "      <td>NaN</td>\n",
       "      <td>NaN</td>\n",
       "      <td>NaN</td>\n",
       "      <td>NaN</td>\n",
       "      <td>NaN</td>\n",
       "      <td>NaN</td>\n",
       "      <td>NaN</td>\n",
       "      <td>NaN</td>\n",
       "      <td>NaN</td>\n",
       "      <td>NaN</td>\n",
       "    </tr>\n",
       "    <tr>\n",
       "      <th>28</th>\n",
       "      <td>NaN</td>\n",
       "      <td>NaN</td>\n",
       "      <td>NaN</td>\n",
       "      <td>NaN</td>\n",
       "      <td>-0.760</td>\n",
       "      <td>-0.001</td>\n",
       "      <td>0.001316</td>\n",
       "      <td>0.0040</td>\n",
       "      <td>NaN</td>\n",
       "      <td>NaN</td>\n",
       "      <td>...</td>\n",
       "      <td>NaN</td>\n",
       "      <td>NaN</td>\n",
       "      <td>NaN</td>\n",
       "      <td>NaN</td>\n",
       "      <td>NaN</td>\n",
       "      <td>NaN</td>\n",
       "      <td>NaN</td>\n",
       "      <td>NaN</td>\n",
       "      <td>NaN</td>\n",
       "      <td>NaN</td>\n",
       "    </tr>\n",
       "    <tr>\n",
       "      <th>29</th>\n",
       "      <td>NaN</td>\n",
       "      <td>NaN</td>\n",
       "      <td>NaN</td>\n",
       "      <td>NaN</td>\n",
       "      <td>-0.892</td>\n",
       "      <td>-0.001</td>\n",
       "      <td>0.001121</td>\n",
       "      <td>-0.0240</td>\n",
       "      <td>NaN</td>\n",
       "      <td>NaN</td>\n",
       "      <td>...</td>\n",
       "      <td>NaN</td>\n",
       "      <td>NaN</td>\n",
       "      <td>NaN</td>\n",
       "      <td>NaN</td>\n",
       "      <td>NaN</td>\n",
       "      <td>NaN</td>\n",
       "      <td>NaN</td>\n",
       "      <td>NaN</td>\n",
       "      <td>NaN</td>\n",
       "      <td>NaN</td>\n",
       "    </tr>\n",
       "    <tr>\n",
       "      <th>30</th>\n",
       "      <td>NaN</td>\n",
       "      <td>NaN</td>\n",
       "      <td>NaN</td>\n",
       "      <td>NaN</td>\n",
       "      <td>-0.870</td>\n",
       "      <td>-0.001</td>\n",
       "      <td>0.001149</td>\n",
       "      <td>-0.0440</td>\n",
       "      <td>NaN</td>\n",
       "      <td>NaN</td>\n",
       "      <td>...</td>\n",
       "      <td>NaN</td>\n",
       "      <td>NaN</td>\n",
       "      <td>NaN</td>\n",
       "      <td>NaN</td>\n",
       "      <td>NaN</td>\n",
       "      <td>NaN</td>\n",
       "      <td>NaN</td>\n",
       "      <td>NaN</td>\n",
       "      <td>NaN</td>\n",
       "      <td>NaN</td>\n",
       "    </tr>\n",
       "    <tr>\n",
       "      <th>31</th>\n",
       "      <td>NaN</td>\n",
       "      <td>NaN</td>\n",
       "      <td>NaN</td>\n",
       "      <td>NaN</td>\n",
       "      <td>-0.907</td>\n",
       "      <td>-0.001</td>\n",
       "      <td>0.001103</td>\n",
       "      <td>-0.0470</td>\n",
       "      <td>NaN</td>\n",
       "      <td>NaN</td>\n",
       "      <td>...</td>\n",
       "      <td>NaN</td>\n",
       "      <td>NaN</td>\n",
       "      <td>NaN</td>\n",
       "      <td>NaN</td>\n",
       "      <td>NaN</td>\n",
       "      <td>NaN</td>\n",
       "      <td>NaN</td>\n",
       "      <td>NaN</td>\n",
       "      <td>NaN</td>\n",
       "      <td>NaN</td>\n",
       "    </tr>\n",
       "    <tr>\n",
       "      <th>32</th>\n",
       "      <td>NaN</td>\n",
       "      <td>NaN</td>\n",
       "      <td>NaN</td>\n",
       "      <td>NaN</td>\n",
       "      <td>-0.931</td>\n",
       "      <td>-0.001</td>\n",
       "      <td>0.001074</td>\n",
       "      <td>-0.0490</td>\n",
       "      <td>NaN</td>\n",
       "      <td>NaN</td>\n",
       "      <td>...</td>\n",
       "      <td>NaN</td>\n",
       "      <td>NaN</td>\n",
       "      <td>NaN</td>\n",
       "      <td>NaN</td>\n",
       "      <td>NaN</td>\n",
       "      <td>NaN</td>\n",
       "      <td>NaN</td>\n",
       "      <td>NaN</td>\n",
       "      <td>NaN</td>\n",
       "      <td>NaN</td>\n",
       "    </tr>\n",
       "    <tr>\n",
       "      <th>33</th>\n",
       "      <td>NaN</td>\n",
       "      <td>NaN</td>\n",
       "      <td>NaN</td>\n",
       "      <td>NaN</td>\n",
       "      <td>-0.989</td>\n",
       "      <td>-0.001</td>\n",
       "      <td>0.001011</td>\n",
       "      <td>-0.0520</td>\n",
       "      <td>NaN</td>\n",
       "      <td>NaN</td>\n",
       "      <td>...</td>\n",
       "      <td>NaN</td>\n",
       "      <td>NaN</td>\n",
       "      <td>NaN</td>\n",
       "      <td>NaN</td>\n",
       "      <td>NaN</td>\n",
       "      <td>NaN</td>\n",
       "      <td>NaN</td>\n",
       "      <td>NaN</td>\n",
       "      <td>NaN</td>\n",
       "      <td>NaN</td>\n",
       "    </tr>\n",
       "    <tr>\n",
       "      <th>34</th>\n",
       "      <td>NaN</td>\n",
       "      <td>NaN</td>\n",
       "      <td>NaN</td>\n",
       "      <td>NaN</td>\n",
       "      <td>-1.055</td>\n",
       "      <td>-0.001</td>\n",
       "      <td>0.000948</td>\n",
       "      <td>-0.0540</td>\n",
       "      <td>NaN</td>\n",
       "      <td>NaN</td>\n",
       "      <td>...</td>\n",
       "      <td>NaN</td>\n",
       "      <td>NaN</td>\n",
       "      <td>NaN</td>\n",
       "      <td>NaN</td>\n",
       "      <td>NaN</td>\n",
       "      <td>NaN</td>\n",
       "      <td>NaN</td>\n",
       "      <td>NaN</td>\n",
       "      <td>NaN</td>\n",
       "      <td>NaN</td>\n",
       "    </tr>\n",
       "    <tr>\n",
       "      <th>35</th>\n",
       "      <td>NaN</td>\n",
       "      <td>NaN</td>\n",
       "      <td>NaN</td>\n",
       "      <td>NaN</td>\n",
       "      <td>-1.095</td>\n",
       "      <td>-0.001</td>\n",
       "      <td>0.000913</td>\n",
       "      <td>-0.0540</td>\n",
       "      <td>NaN</td>\n",
       "      <td>NaN</td>\n",
       "      <td>...</td>\n",
       "      <td>NaN</td>\n",
       "      <td>NaN</td>\n",
       "      <td>NaN</td>\n",
       "      <td>NaN</td>\n",
       "      <td>NaN</td>\n",
       "      <td>NaN</td>\n",
       "      <td>NaN</td>\n",
       "      <td>NaN</td>\n",
       "      <td>NaN</td>\n",
       "      <td>NaN</td>\n",
       "    </tr>\n",
       "    <tr>\n",
       "      <th>36</th>\n",
       "      <td>NaN</td>\n",
       "      <td>NaN</td>\n",
       "      <td>NaN</td>\n",
       "      <td>NaN</td>\n",
       "      <td>-1.144</td>\n",
       "      <td>-0.001</td>\n",
       "      <td>0.000874</td>\n",
       "      <td>-0.0540</td>\n",
       "      <td>NaN</td>\n",
       "      <td>NaN</td>\n",
       "      <td>...</td>\n",
       "      <td>NaN</td>\n",
       "      <td>NaN</td>\n",
       "      <td>NaN</td>\n",
       "      <td>NaN</td>\n",
       "      <td>NaN</td>\n",
       "      <td>NaN</td>\n",
       "      <td>NaN</td>\n",
       "      <td>NaN</td>\n",
       "      <td>NaN</td>\n",
       "      <td>NaN</td>\n",
       "    </tr>\n",
       "  </tbody>\n",
       "</table>\n",
       "<p>37 rows × 40 columns</p>\n",
       "</div>"
      ],
      "text/plain": [
       "     color   value  mis  Unnamed: 3  green_voltage    v_s     v_eps  \\\n",
       "0   yellow  2192.0  1.0    0.000456          3.314  0.001  0.000302   \n",
       "1    green  1928.0  1.0    0.000519          3.200  0.001  0.000313   \n",
       "2   orange  2326.0  1.0    0.000430          2.640  0.001  0.000379   \n",
       "3    red_1  2378.0  1.0    0.000421          2.280  0.001  0.000439   \n",
       "4    red_2  2406.0  1.0    0.000416          1.500  0.001  0.000667   \n",
       "5    red_3  2432.0  1.0    0.000411          1.000  0.001  0.001000   \n",
       "6      NaN     NaN  NaN         NaN          0.839  0.001  0.001192   \n",
       "7      NaN     NaN  NaN         NaN          0.779  0.001  0.001284   \n",
       "8      NaN     NaN  NaN         NaN          0.705  0.001  0.001418   \n",
       "9      NaN     NaN  NaN         NaN          0.586  0.001  0.001706   \n",
       "10     NaN     NaN  NaN         NaN          0.251  0.001  0.003984   \n",
       "11     NaN     NaN  NaN         NaN          0.097  0.001  0.010309   \n",
       "12     NaN     NaN  NaN         NaN          0.007  0.001  0.142857   \n",
       "13     NaN     NaN  NaN         NaN         -0.331 -0.001  0.003021   \n",
       "14     NaN     NaN  NaN         NaN         -0.494 -0.001  0.002024   \n",
       "15     NaN     NaN  NaN         NaN         -0.536 -0.001  0.001866   \n",
       "16     NaN     NaN  NaN         NaN         -0.580 -0.001  0.001724   \n",
       "17     NaN     NaN  NaN         NaN         -0.597 -0.001  0.001675   \n",
       "18     NaN     NaN  NaN         NaN         -0.615 -0.001  0.001626   \n",
       "19     NaN     NaN  NaN         NaN         -0.634 -0.001  0.001577   \n",
       "20     NaN     NaN  NaN         NaN         -0.643 -0.001  0.001555   \n",
       "21     NaN     NaN  NaN         NaN         -0.660 -0.001  0.001515   \n",
       "22     NaN     NaN  NaN         NaN         -0.678 -0.001  0.001475   \n",
       "23     NaN     NaN  NaN         NaN         -0.695 -0.001  0.001439   \n",
       "24     NaN     NaN  NaN         NaN         -0.724 -0.001  0.001381   \n",
       "25     NaN     NaN  NaN         NaN         -0.732 -0.001  0.001366   \n",
       "26     NaN     NaN  NaN         NaN         -0.749 -0.001  0.001335   \n",
       "27     NaN     NaN  NaN         NaN         -0.757 -0.001  0.001321   \n",
       "28     NaN     NaN  NaN         NaN         -0.760 -0.001  0.001316   \n",
       "29     NaN     NaN  NaN         NaN         -0.892 -0.001  0.001121   \n",
       "30     NaN     NaN  NaN         NaN         -0.870 -0.001  0.001149   \n",
       "31     NaN     NaN  NaN         NaN         -0.907 -0.001  0.001103   \n",
       "32     NaN     NaN  NaN         NaN         -0.931 -0.001  0.001074   \n",
       "33     NaN     NaN  NaN         NaN         -0.989 -0.001  0.001011   \n",
       "34     NaN     NaN  NaN         NaN         -1.055 -0.001  0.000948   \n",
       "35     NaN     NaN  NaN         NaN         -1.095 -0.001  0.000913   \n",
       "36     NaN     NaN  NaN         NaN         -1.144 -0.001  0.000874   \n",
       "\n",
       "    green_current  1978_voltage  1978_current  ...   1828_sq  1828_sigma  \\\n",
       "0          0.6480        -1.924        -0.061  ...  0.225832    0.002214   \n",
       "1          0.6480        -1.965        -0.061  ...  0.161245    0.003101   \n",
       "2          0.6480        -1.941        -0.060  ...  0.109545    0.004564   \n",
       "3          0.6480        -1.934        -0.059  ...  0.031623    0.015811   \n",
       "4          0.6480        -1.881        -0.058  ... -0.089443   -0.005590   \n",
       "5          0.6480        -1.700        -0.056  ... -0.118322   -0.004226   \n",
       "6          0.6460        -1.318        -0.054  ... -0.151658   -0.003297   \n",
       "7          0.6420        -1.200        -0.053  ... -0.173205   -0.002887   \n",
       "8          0.6370        -0.977        -0.050  ... -0.187083   -0.002673   \n",
       "9          0.6300        -0.896        -0.047  ... -0.197484   -0.002532   \n",
       "10         0.6010        -0.854        -0.044  ... -0.207364   -0.002411   \n",
       "11         0.5850        -0.823        -0.040  ... -0.209762   -0.002384   \n",
       "12         0.5720        -0.801        -0.037  ... -0.214476   -0.002331   \n",
       "13         0.4950        -0.778        -0.033  ... -0.219089   -0.002282   \n",
       "14         0.3340        -0.753        -0.027  ... -0.219089   -0.002282   \n",
       "15         0.2450        -0.735        -0.021  ... -0.223607   -0.002236   \n",
       "16         0.1640        -0.719        -0.015  ...       NaN         NaN   \n",
       "17         0.1400        -0.710        -0.011  ...       NaN         NaN   \n",
       "18         0.1150        -0.698        -0.005  ...       NaN         NaN   \n",
       "19         0.0093        -0.673         0.012  ...       NaN         NaN   \n",
       "20         0.0820        -0.632         0.042  ...       NaN         NaN   \n",
       "21         0.0660        -0.650         0.027  ...       NaN         NaN   \n",
       "22         0.0510           NaN           NaN  ...       NaN         NaN   \n",
       "23         0.0380           NaN           NaN  ...       NaN         NaN   \n",
       "24         0.0210           NaN           NaN  ...       NaN         NaN   \n",
       "25         0.0160           NaN           NaN  ...       NaN         NaN   \n",
       "26         0.0100           NaN           NaN  ...       NaN         NaN   \n",
       "27         0.0060           NaN           NaN  ...       NaN         NaN   \n",
       "28         0.0040           NaN           NaN  ...       NaN         NaN   \n",
       "29        -0.0240           NaN           NaN  ...       NaN         NaN   \n",
       "30        -0.0440           NaN           NaN  ...       NaN         NaN   \n",
       "31        -0.0470           NaN           NaN  ...       NaN         NaN   \n",
       "32        -0.0490           NaN           NaN  ...       NaN         NaN   \n",
       "33        -0.0520           NaN           NaN  ...       NaN         NaN   \n",
       "34        -0.0540           NaN           NaN  ...       NaN         NaN   \n",
       "35        -0.0540           NaN           NaN  ...       NaN         NaN   \n",
       "36        -0.0540           NaN           NaN  ...       NaN         NaN   \n",
       "\n",
       "    1778_vol  1778_cur   1778_sq  1778_sigma  1728_vol  1728_cur   1728_sq  \\\n",
       "0     -1.363    -0.050 -0.223607   -0.002236    -0.696     0.066  0.256905   \n",
       "1     -1.321    -0.050 -0.223607   -0.002236    -0.750     0.029  0.170294   \n",
       "2     -1.269    -0.050 -0.223607   -0.002236    -0.782     0.011  0.104881   \n",
       "3     -1.173    -0.048 -0.219089   -0.002282    -0.804     0.000  0.000000   \n",
       "4     -1.121    -0.047 -0.216795   -0.002306    -0.824    -0.009 -0.094868   \n",
       "5     -1.092    -0.046 -0.214476   -0.002331    -0.835    -0.013 -0.114018   \n",
       "6     -1.048    -0.044 -0.209762   -0.002384    -0.860    -0.021 -0.144914   \n",
       "7     -1.002    -0.042 -0.204939   -0.002440    -0.894    -0.030 -0.173205   \n",
       "8     -0.974    -0.041 -0.202485   -0.002469    -0.911    -0.033 -0.181659   \n",
       "9     -0.947    -0.038 -0.194936   -0.002565    -0.931    -0.036 -0.189737   \n",
       "10    -0.916    -0.034 -0.184391   -0.002712    -0.950    -0.039 -0.197484   \n",
       "11    -0.888    -0.030 -0.173205   -0.002887    -0.978    -0.042 -0.204939   \n",
       "12    -0.849    -0.022 -0.148324   -0.003371    -1.008    -0.045 -0.212132   \n",
       "13    -0.826    -0.016 -0.126491   -0.003953    -1.032    -0.047 -0.216795   \n",
       "14    -0.799    -0.007 -0.083666   -0.005976    -1.054    -0.048 -0.219089   \n",
       "15    -0.779    -0.003 -0.054772   -0.009129    -1.079    -0.050 -0.223607   \n",
       "16    -0.745     0.020  0.141421    0.003536    -1.112    -0.050 -0.223607   \n",
       "17    -0.730     0.028  0.167332    0.002988       NaN       NaN       NaN   \n",
       "18    -0.719     0.036  0.189737    0.002635       NaN       NaN       NaN   \n",
       "19    -0.696     0.052  0.228035    0.002193       NaN       NaN       NaN   \n",
       "20       NaN       NaN       NaN         NaN       NaN       NaN       NaN   \n",
       "21       NaN       NaN       NaN         NaN       NaN       NaN       NaN   \n",
       "22       NaN       NaN       NaN         NaN       NaN       NaN       NaN   \n",
       "23       NaN       NaN       NaN         NaN       NaN       NaN       NaN   \n",
       "24       NaN       NaN       NaN         NaN       NaN       NaN       NaN   \n",
       "25       NaN       NaN       NaN         NaN       NaN       NaN       NaN   \n",
       "26       NaN       NaN       NaN         NaN       NaN       NaN       NaN   \n",
       "27       NaN       NaN       NaN         NaN       NaN       NaN       NaN   \n",
       "28       NaN       NaN       NaN         NaN       NaN       NaN       NaN   \n",
       "29       NaN       NaN       NaN         NaN       NaN       NaN       NaN   \n",
       "30       NaN       NaN       NaN         NaN       NaN       NaN       NaN   \n",
       "31       NaN       NaN       NaN         NaN       NaN       NaN       NaN   \n",
       "32       NaN       NaN       NaN         NaN       NaN       NaN       NaN   \n",
       "33       NaN       NaN       NaN         NaN       NaN       NaN       NaN   \n",
       "34       NaN       NaN       NaN         NaN       NaN       NaN       NaN   \n",
       "35       NaN       NaN       NaN         NaN       NaN       NaN       NaN   \n",
       "36       NaN       NaN       NaN         NaN       NaN       NaN       NaN   \n",
       "\n",
       "    1728_sigma  \n",
       "0     0.001946  \n",
       "1     0.002936  \n",
       "2     0.004767  \n",
       "3     0.001000  \n",
       "4    -0.005270  \n",
       "5    -0.004385  \n",
       "6    -0.003450  \n",
       "7    -0.002887  \n",
       "8    -0.002752  \n",
       "9    -0.002635  \n",
       "10   -0.002532  \n",
       "11   -0.002440  \n",
       "12   -0.002357  \n",
       "13   -0.002306  \n",
       "14   -0.002282  \n",
       "15   -0.002236  \n",
       "16   -0.002236  \n",
       "17         NaN  \n",
       "18         NaN  \n",
       "19         NaN  \n",
       "20         NaN  \n",
       "21         NaN  \n",
       "22         NaN  \n",
       "23         NaN  \n",
       "24         NaN  \n",
       "25         NaN  \n",
       "26         NaN  \n",
       "27         NaN  \n",
       "28         NaN  \n",
       "29         NaN  \n",
       "30         NaN  \n",
       "31         NaN  \n",
       "32         NaN  \n",
       "33         NaN  \n",
       "34         NaN  \n",
       "35         NaN  \n",
       "36         NaN  \n",
       "\n",
       "[37 rows x 40 columns]"
      ]
     },
     "execution_count": 4,
     "metadata": {},
     "output_type": "execute_result"
    }
   ],
   "source": [
    "df"
   ]
  },
  {
   "cell_type": "code",
   "execution_count": null,
   "metadata": {},
   "outputs": [],
   "source": []
  },
  {
   "cell_type": "code",
   "execution_count": 5,
   "metadata": {},
   "outputs": [],
   "source": [
    "sns.set_theme()"
   ]
  },
  {
   "cell_type": "markdown",
   "metadata": {},
   "source": [
    "Погрешность каждого измерения напряжение 0.001 В, напряжение, пропорционального току - 0.001 В"
   ]
  },
  {
   "cell_type": "markdown",
   "metadata": {},
   "source": [
    "Построение градуировочного графика"
   ]
  },
  {
   "cell_type": "code",
   "execution_count": 6,
   "metadata": {},
   "outputs": [
    {
     "data": {
      "text/plain": [
       "Text(0, 0.5, '$\\\\lambda$, $\\\\AA$')"
      ]
     },
     "execution_count": 6,
     "metadata": {},
     "output_type": "execute_result"
    },
    {
     "data": {
      "image/png": "[encoded data removed]",
      "text/plain": [
       "<Figure size 1080x720 with 1 Axes>"
      ]
     },
     "metadata": {},
     "output_type": "display_data"
    }
   ],
   "source": [
    "plt.rcParams[\"figure.figsize\"] = (15,10)\n",
    "theta = np.array(df['value'][0:6])\n",
    "lmbd = np.array([5835, 5330, 5945, 6096, 6143, 6402])\n",
    "err = np.ones(6) * 50\n",
    "\n",
    "x = np.linspace(1500, 3000, 500)\n",
    "a_,b_,s_,e_ = chi_sq(theta, lmbd, None)\n",
    "y = a_ * x + b_\n",
    "plt.plot(x, y, lw = 1)\n",
    "\n",
    "plt.errorbar(theta, lmbd, xerr = err, yerr= None, fmt='.',color='b',capthick=1,elinewidth=0.5,capsize=1,zorder=10 )\n",
    "plt.scatter(theta, lmbd, marker = '.', color = 'b' )\n",
    "plt.xlabel('$\\\\theta$, $\\degree$ ')\n",
    "plt.ylabel('$\\lambda$, $\\\\AA$')"
   ]
  },
  {
   "cell_type": "code",
   "execution_count": null,
   "metadata": {},
   "outputs": [],
   "source": []
  },
  {
   "cell_type": "code",
   "execution_count": 7,
   "metadata": {},
   "outputs": [
    {
     "data": {
      "image/png": "[encoded data removed]",
      "text/plain": [
       "<Figure size 720x360 with 1 Axes>"
      ]
     },
     "metadata": {},
     "output_type": "display_data"
    }
   ],
   "source": [
    "g = sns.relplot(\n",
    "    data=df,\n",
    "    x=\"green_voltage\", y=\"green_current\",\n",
    "    height=5, aspect=2, kind=\"scatter\"\n",
    ")\n",
    "(g.map(plt.axhline, y=-0.054, color=\".7\", dashes=(1, 0.5), zorder=0)\n",
    "  .set_axis_labels(\"Напряжение V, В\", \"V ~ I , В\")\n",
    "  .tight_layout(w_pad=0))"
   ]
  },
  {
   "cell_type": "markdown",
   "metadata": {},
   "source": [
    "Запирающее напряжение -1 В"
   ]
  },
  {
   "cell_type": "code",
   "execution_count": 8,
   "metadata": {},
   "outputs": [
    {
     "name": "stderr",
     "output_type": "stream",
     "text": [
      "C:\\Users\\Olga\\anaconda3\\lib\\site-packages\\pandas\\core\\series.py:726: RuntimeWarning: invalid value encountered in sqrt\n",
      "  result = getattr(ufunc, method)(*inputs, **kwargs)\n",
      "C:\\Users\\Olga\\anaconda3\\lib\\site-packages\\pandas\\core\\series.py:726: RuntimeWarning: invalid value encountered in sqrt\n",
      "  result = getattr(ufunc, method)(*inputs, **kwargs)\n",
      "C:\\Users\\Olga\\anaconda3\\lib\\site-packages\\pandas\\core\\series.py:726: RuntimeWarning: invalid value encountered in sqrt\n",
      "  result = getattr(ufunc, method)(*inputs, **kwargs)\n"
     ]
    },
    {
     "data": {
      "text/plain": [
       "Text(0, 0.5, 'V ~ I, В')"
      ]
     },
     "execution_count": 8,
     "metadata": {},
     "output_type": "execute_result"
    },
    {
     "data": {
      "image/png": "[encoded data removed]",
      "text/plain": [
       "<Figure size 1080x720 with 1 Axes>"
      ]
     },
     "metadata": {},
     "output_type": "display_data"
    }
   ],
   "source": [
    "plt.rcParams[\"figure.figsize\"] = (15,10)\n",
    "\n",
    "plt.scatter(df['1978_voltage'], df['1978_current'], color = 'r', marker = '.', label = '540.8 нм')\n",
    "y = np.ones(df['1978_voltage'].size) * (-0.061) \n",
    "plt.plot(df['1978_voltage'], y, color = 'r', lw = 0.5 )\n",
    "\n",
    "plt.scatter(df['2028_voltage'], df['2028_current'], color = 'k', marker = '.', label = '550 нм')\n",
    "y = np.ones(df['1978_voltage'].size) * (-0.054) \n",
    "plt.plot(df['1978_voltage'], y, color = 'k', lw = 0.5 )\n",
    "\n",
    "x = np.sqrt(df['2078_vol'])\n",
    "plt.scatter(df['2078_vol'], df['2078_cur'] , color = 'b', marker = '.', label = '559.2 нм' )\n",
    "y = np.ones(df['1978_voltage'].size) * (-0.054) \n",
    "plt.plot(df['1978_voltage'], y, color = 'b', lw = 0.5 )\n",
    "\n",
    "x = np.sqrt(df['2128_vol'])\n",
    "plt.scatter(df['2128_vol'], df['2128_cur'], color = 'm', marker = '.', label = '568.4 нм')\n",
    "y = np.ones(df['1978_voltage'].size) * (-0.052) \n",
    "plt.plot(df['1978_voltage'], y, color = 'm', lw = 0.5 )\n",
    "\n",
    "x = np.sqrt(df['1878_vol'])\n",
    "plt.scatter(df['1878_vol'], df['1878_cur'], color = 'brown', marker = 'x', label = '522.3 нм')\n",
    "y = np.ones(df['1978_voltage'].size) * (-0.05) \n",
    "plt.plot(df['1978_voltage'], y, color = 'brown', lw = 0.5 )\n",
    "\n",
    "plt.scatter(df['1828_vol'], df['1828_cur'], color = 'g', marker = 'x', label = '513.1 нм')\n",
    "y = np.ones(df['1978_voltage'].size) * (-0.048) \n",
    "plt.plot(df['1978_voltage'], y, color = 'g', lw = 0.5 )\n",
    "\n",
    "plt.scatter(df['1778_vol'], df['1778_cur'], color = 'c', marker = 'x', label ='503.9 нм')\n",
    "y = np.ones(df['1978_voltage'].size) * (-0.05) \n",
    "plt.plot(df['1978_voltage'], y, color = 'c', lw = 0.5 )\n",
    "\n",
    "plt.scatter(df['1728_vol'], df['1728_cur'], color = 'y', marker = 'x', label = '494.7 нм')\n",
    "y = np.ones(df['1978_voltage'].size) * (-0.05) \n",
    "plt.plot(df['1978_voltage'], y, color = 'y', lw = 0.5 )\n",
    "\n",
    "plt.xlabel('Напряжение V, В')\n",
    "plt.legend()\n",
    "plt.ylabel('V ~ I, В')\n",
    "#5408.02501454, 5500.0776877 , 5592.13036085, 5684.18303401,\n",
    "    #   5223.91966824, 5131.86699508, 5039.81432193, 4947.76164877"
   ]
  },
  {
   "cell_type": "code",
   "execution_count": 9,
   "metadata": {},
   "outputs": [
    {
     "data": {
      "text/plain": [
       "Text(0, 0.5, 'I$^{1/2}$ A')"
      ]
     },
     "execution_count": 9,
     "metadata": {},
     "output_type": "execute_result"
    },
    {
     "data": {
      "image/png": "[encoded data removed]",
      "text/plain": [
       "<Figure size 1080x720 with 1 Axes>"
      ]
     },
     "metadata": {},
     "output_type": "display_data"
    }
   ],
   "source": [
    "plt.rcParams[\"figure.figsize\"] = (15,10)\n",
    "v_0 = []\n",
    "v_0_mis = []\n",
    "\n",
    "plt.scatter(df['1978_voltage'], df['1978_sq'], color = 'r', marker = '.', label = '540.8 нм')\n",
    "a, b, s, e = chi_sq(df['1978_voltage'][12:21],df['1978_sq'][12:21], None) #df['1978_sigma'][12:21])\n",
    "x = np.array(df['1978_voltage'][12:21])\n",
    "y = a * x + b\n",
    "plt.plot(x, y, color = 'r', lw = 0.5)\n",
    "v = (-0.2191 - b)/a\n",
    "v_mis = v * np.sqrt((0.001/(-0.2191))**2 + (s/a)**2 + (e/b)**2)\n",
    "v_0.append(v)\n",
    "v_0_mis.append(v_mis)\n",
    "\n",
    "plt.scatter(df['2028_voltage'], df['2028_sq'], color = 'k', marker = '.', label = '550 нм')\n",
    "a, b, s, e = chi_sq(df['2028_voltage'][1:8],df['2028_sq'][1:8], None)#df['2028_sigma'][1:8])\n",
    "x = np.array(df['2028_voltage'][1:8])\n",
    "y = a * x + b\n",
    "plt.plot(x, y, color = 'k', lw = 0.5)\n",
    "v = (-0.2191 - b)/a\n",
    "v_mis = v * np.sqrt((0.001/(-0.2191))**2 + (s/a)**2 + (e/b)**2)\n",
    "v_0.append(v)\n",
    "v_0_mis.append(v_mis)\n",
    "\n",
    "plt.scatter(df['2078_vol'], df['2078_sq'], color = 'b', marker = '.', label = '559.2 нм')\n",
    "a, b, s, e = chi_sq(df['2078_vol'][8:14],df['2078_sq'][8:14],None)# df['2078_sigma'][8:14])\n",
    "x = np.array(df['2078_vol'][8:14])\n",
    "y = a * x + b\n",
    "plt.plot(x, y, color = 'b', lw = 0.5)\n",
    "v = (-0.2191 - b)/a\n",
    "v_mis = v * np.sqrt((0.001/(-0.2191))**2 + (s/a)**2 + (e/b)**2)\n",
    "v_0.append(v)\n",
    "v_0_mis.append(v_mis)\n",
    "\n",
    "plt.scatter(df['2128_vol'], df['2128_sq'], color = 'm', marker = '.', label = '568.4 нм')\n",
    "a, b, s, e = chi_sq(df['2128_vol'][0:8],df['2128_sq'][0:8], None)#df['2128_sigma'][0:8])\n",
    "x = np.array(df['2128_vol'][0:8])\n",
    "y = a * x + b\n",
    "plt.plot(x, y, color = 'm', lw = 0.5)\n",
    "v = (-0.2191 - b)/a\n",
    "v_mis = v * np.sqrt((0.001/(-0.2191))**2 + (s/a)**2 + (e/b)**2)\n",
    "v_0.append(v)\n",
    "v_0_mis.append(v_mis)\n",
    "\n",
    "plt.scatter(df['1878_vol'], df['1878_sq'], color = 'maroon', marker = 'x', label = '522.3 нм')\n",
    "a, b, s, e = chi_sq(df['1878_vol'][9:19],df['1878_sq'][9:19],None)# df['1878_sigma'][9:19])\n",
    "x = np.array(df['1878_vol'][9:19])\n",
    "y = a * x + b\n",
    "plt.plot(x, y, color = 'maroon', lw = 0.5)\n",
    "v = (-0.2191 - b)/a\n",
    "v_mis = v * np.sqrt((0.001/(-0.2191))**2 + (s/a)**2 + (e/b)**2)\n",
    "v_0.append(v)\n",
    "v_0_mis.append(v_mis)\n",
    "\n",
    "plt.scatter(df['1828_vol'], df['1828_sq'], color = 'g', marker = 'x', label = '513.1 нм')\n",
    "a, b, s, e = chi_sq(df['1828_vol'][0:7],df['1828_sq'][0:7], None)#df['1828_sigma'][0:7])\n",
    "x = np.array(df['1828_vol'][0:7])\n",
    "y = a * x + b\n",
    "plt.plot(x, y, color = 'g', lw = 0.5)\n",
    "v = (-0.2191 - b)/a\n",
    "v_mis = v * np.sqrt((0.001/(-0.2191))**2 + (s/a)**2 + (e/b)**2)\n",
    "v_0.append(v)\n",
    "v_0_mis.append(v_mis)\n",
    "\n",
    "plt.scatter(df['1778_vol'], df['1778_sq'], color = 'c', marker = 'x', label = '503.9 нм')\n",
    "a, b, s, e = chi_sq(df['1778_vol'][11:20],df['1778_sq'][11:20],None)# df['1778_sigma'][11:20])\n",
    "x = np.array(df['1778_vol'][11:20])\n",
    "y = a * x + b\n",
    "plt.plot(x, y, color = 'c', lw = 0.5)\n",
    "v = (-0.2191 - b)/a\n",
    "v_mis = v * np.sqrt((0.001/(-0.2191))**2 + (s/a)**2 + (e/b)**2)\n",
    "v_0.append(v)\n",
    "v_0_mis.append(v_mis)\n",
    "\n",
    "plt.scatter(df['1728_vol'], df['1728_sq'], color = 'y', marker = 'x', label = '494.7 нм')\n",
    "a, b, s, e = chi_sq(df['1728_vol'][0:8],df['1728_sq'][0:8], None)#df['1728_sigma'][0:8])\n",
    "x = np.array(df['1728_vol'][0:8])\n",
    "y = a * x + b\n",
    "plt.plot(x, y, color = 'y', lw = 0.5)\n",
    "v = (-0.2191 - b)/a\n",
    "v_mis = v * np.sqrt((0.001/(-0.2191))**2 + (s/a)**2 + (e/b)**2)\n",
    "v_0.append(v)\n",
    "v_0_mis.append(v_mis)\n",
    "\n",
    "y = np.ones(df['1978_voltage'].size) * (-0.219089023)\n",
    "plt.plot(df['1978_voltage'], y, color = 'grey', lw = 1)\n",
    "plt.xlabel('Напряжение V, В')\n",
    "plt.legend()\n",
    "plt.ylabel('I$^{1/2}$ A')\n"
   ]
  },
  {
   "cell_type": "code",
   "execution_count": 10,
   "metadata": {},
   "outputs": [
    {
     "data": {
      "text/plain": [
       "[-0.7818520473685202,\n",
       " -0.7381571919001547,\n",
       " -0.7060016300506716,\n",
       " -0.6719909052592061,\n",
       " -0.8392093363575084,\n",
       " -0.8405979915879467,\n",
       " -0.8785483010639872,\n",
       " -0.894427260282262]"
      ]
     },
     "execution_count": 10,
     "metadata": {},
     "output_type": "execute_result"
    }
   ],
   "source": [
    "v_0"
   ]
  },
  {
   "cell_type": "code",
   "execution_count": 11,
   "metadata": {},
   "outputs": [
    {
     "data": {
      "text/plain": [
       "[-0.19100550782887135,\n",
       " -0.1622137042767762,\n",
       " -0.1334415392392529,\n",
       " -0.09688611786651209,\n",
       " -0.11755322858382483,\n",
       " -0.10978029068835234,\n",
       " -0.14149834184311413,\n",
       " -0.1242522203155482]"
      ]
     },
     "execution_count": 11,
     "metadata": {},
     "output_type": "execute_result"
    }
   ],
   "source": [
    "v_0_mis"
   ]
  },
  {
   "cell_type": "markdown",
   "metadata": {},
   "source": [
    "Построение зависимости запирающего напряжения от частоты света"
   ]
  },
  {
   "cell_type": "code",
   "execution_count": 19,
   "metadata": {},
   "outputs": [],
   "source": [
    "c = 3 * 10 ** 8 #скорость света в нм\n",
    "th = np.array([1978, 2028, 2078, 2128, 1878, 1828, 1778, 1728])\n",
    "th_err = np.ones(th.size) * 10\n",
    "lmbds = (a_*th + b_) * 10 **(-10) \n",
    "omegas = 2 * 3.14 * c / lmbds\n",
    "omegas_err = omegas * np.sqrt((s_/a_)**2 + (e_/b_)**2 + (th_err/th)**2)"
   ]
  },
  {
   "cell_type": "code",
   "execution_count": 20,
   "metadata": {},
   "outputs": [
    {
     "data": {
      "text/plain": [
       "array([5.40802501e-07, 5.50007769e-07, 5.59213036e-07, 5.68418303e-07,\n",
       "       5.22391967e-07, 5.13186700e-07, 5.03981432e-07, 4.94776165e-07])"
      ]
     },
     "execution_count": 20,
     "metadata": {},
     "output_type": "execute_result"
    }
   ],
   "source": [
    "lmbds"
   ]
  },
  {
   "cell_type": "code",
   "execution_count": 21,
   "metadata": {},
   "outputs": [
    {
     "data": {
      "text/plain": [
       "Text(0, 0.5, 'V$_{0}$, В')"
      ]
     },
     "execution_count": 21,
     "metadata": {},
     "output_type": "execute_result"
    },
    {
     "data": {
      "image/png": "[encoded data removed]",
      "text/plain": [
       "<Figure size 1080x720 with 1 Axes>"
      ]
     },
     "metadata": {},
     "output_type": "display_data"
    }
   ],
   "source": [
    "n,m,p,q = chi_sq(omegas, v_0, None)\n",
    "y = n * omegas + m\n",
    "plt.plot(omegas, y, lw = 1, color = 'c')\n",
    "plt.scatter(omegas, v_0, marker = '.', color = 'c')\n",
    "plt.errorbar(omegas, v_0, xerr = omegas_err, yerr= v_0_mis, fmt='.',color='c',capthick=1,elinewidth=0.5,capsize=1,zorder=10 )\n",
    "plt.xlabel('$\\\\omega$, c$^{-1}$')\n",
    "plt.ylabel('V$_{0}$, В')"
   ]
  },
  {
   "cell_type": "code",
   "execution_count": 22,
   "metadata": {},
   "outputs": [
    {
     "data": {
      "text/plain": [
       "-4.495121622781855e-16"
      ]
     },
     "execution_count": 22,
     "metadata": {},
     "output_type": "execute_result"
    }
   ],
   "source": [
    "n #dv/d_omega"
   ]
  },
  {
   "cell_type": "code",
   "execution_count": 23,
   "metadata": {},
   "outputs": [],
   "source": [
    "plank = abs(n * 1.6 * 10 **(-19))"
   ]
  },
  {
   "cell_type": "code",
   "execution_count": 24,
   "metadata": {},
   "outputs": [
    {
     "data": {
      "text/plain": [
       "7.192194596450968e-35"
      ]
     },
     "execution_count": 24,
     "metadata": {},
     "output_type": "execute_result"
    }
   ],
   "source": [
    "plank #Дж с"
   ]
  },
  {
   "cell_type": "code",
   "execution_count": null,
   "metadata": {},
   "outputs": [],
   "source": [
    "h = 1.5 * 10**(-34)"
   ]
  },
  {
   "cell_type": "code",
   "execution_count": 160,
   "metadata": {},
   "outputs": [
    {
     "data": {
      "text/plain": [
       "4793.796414864076"
      ]
     },
     "execution_count": 160,
     "metadata": {},
     "output_type": "execute_result"
    }
   ],
   "source": [
    "(plank - h)/h #ошибка"
   ]
  },
  {
   "cell_type": "code",
   "execution_count": 161,
   "metadata": {},
   "outputs": [
    {
     "data": {
      "text/plain": [
       "3.083774984397771e-13"
      ]
     },
     "execution_count": 161,
     "metadata": {},
     "output_type": "execute_result"
    }
   ],
   "source": [
    "p #погрешность"
   ]
  },
  {
   "cell_type": "code",
   "execution_count": null,
   "metadata": {},
   "outputs": [],
   "source": []
  },
  {
   "cell_type": "code",
   "execution_count": null,
   "metadata": {},
   "outputs": [],
   "source": []
  },
  {
   "cell_type": "code",
   "execution_count": null,
   "metadata": {},
   "outputs": [],
   "source": []
  },
  {
   "cell_type": "code",
   "execution_count": null,
   "metadata": {},
   "outputs": [],
   "source": []
  },
  {
   "cell_type": "code",
   "execution_count": null,
   "metadata": {},
   "outputs": [],
   "source": []
  },
  {
   "cell_type": "code",
   "execution_count": null,
   "metadata": {},
   "outputs": [],
   "source": []
  },
  {
   "cell_type": "code",
   "execution_count": null,
   "metadata": {},
   "outputs": [],
   "source": []
  },
  {
   "cell_type": "code",
   "execution_count": null,
   "metadata": {},
   "outputs": [],
   "source": []
  },
  {
   "cell_type": "code",
   "execution_count": null,
   "metadata": {},
   "outputs": [],
   "source": []
  },
  {
   "cell_type": "code",
   "execution_count": null,
   "metadata": {},
   "outputs": [],
   "source": []
  },
  {
   "cell_type": "code",
   "execution_count": null,
   "metadata": {},
   "outputs": [],
   "source": []
  },
  {
   "cell_type": "code",
   "execution_count": null,
   "metadata": {},
   "outputs": [],
   "source": []
  },
  {
   "cell_type": "code",
   "execution_count": null,
   "metadata": {},
   "outputs": [],
   "source": []
  },
  {
   "cell_type": "code",
   "execution_count": null,
   "metadata": {},
   "outputs": [],
   "source": []
  },
  {
   "cell_type": "code",
   "execution_count": null,
   "metadata": {},
   "outputs": [],
   "source": []
  },
  {
   "cell_type": "code",
   "execution_count": null,
   "metadata": {},
   "outputs": [],
   "source": []
  },
  {
   "cell_type": "code",
   "execution_count": null,
   "metadata": {},
   "outputs": [],
   "source": []
  },
  {
   "cell_type": "code",
   "execution_count": null,
   "metadata": {},
   "outputs": [],
   "source": []
  },
  {
   "cell_type": "code",
   "execution_count": null,
   "metadata": {},
   "outputs": [],
   "source": []
  },
  {
   "cell_type": "code",
   "execution_count": null,
   "metadata": {},
   "outputs": [],
   "source": []
  },
  {
   "cell_type": "code",
   "execution_count": null,
   "metadata": {},
   "outputs": [],
   "source": []
  },
  {
   "cell_type": "code",
   "execution_count": null,
   "metadata": {},
   "outputs": [],
   "source": []
  },
  {
   "cell_type": "code",
   "execution_count": null,
   "metadata": {},
   "outputs": [],
   "source": []
  },
  {
   "cell_type": "code",
   "execution_count": null,
   "metadata": {},
   "outputs": [],
   "source": []
  },
  {
   "cell_type": "code",
   "execution_count": null,
   "metadata": {},
   "outputs": [],
   "source": []
  },
  {
   "cell_type": "code",
   "execution_count": null,
   "metadata": {},
   "outputs": [],
   "source": []
  },
  {
   "cell_type": "code",
   "execution_count": null,
   "metadata": {},
   "outputs": [],
   "source": []
  },
  {
   "cell_type": "code",
   "execution_count": null,
   "metadata": {},
   "outputs": [],
   "source": []
  },
  {
   "cell_type": "code",
   "execution_count": null,
   "metadata": {},
   "outputs": [],
   "source": []
  },
  {
   "cell_type": "code",
   "execution_count": null,
   "metadata": {},
   "outputs": [],
   "source": []
  },
  {
   "cell_type": "code",
   "execution_count": null,
   "metadata": {},
   "outputs": [],
   "source": []
  },
  {
   "cell_type": "code",
   "execution_count": null,
   "metadata": {},
   "outputs": [],
   "source": []
  },
  {
   "cell_type": "code",
   "execution_count": null,
   "metadata": {},
   "outputs": [],
   "source": []
  },
  {
   "cell_type": "code",
   "execution_count": null,
   "metadata": {},
   "outputs": [],
   "source": []
  },
  {
   "cell_type": "code",
   "execution_count": null,
   "metadata": {},
   "outputs": [],
   "source": []
  },
  {
   "cell_type": "code",
   "execution_count": null,
   "metadata": {},
   "outputs": [],
   "source": []
  },
  {
   "cell_type": "code",
   "execution_count": null,
   "metadata": {},
   "outputs": [],
   "source": []
  },
  {
   "cell_type": "code",
   "execution_count": null,
   "metadata": {},
   "outputs": [],
   "source": []
  },
  {
   "cell_type": "code",
   "execution_count": null,
   "metadata": {},
   "outputs": [],
   "source": []
  },
  {
   "cell_type": "code",
   "execution_count": null,
   "metadata": {},
   "outputs": [],
   "source": []
  },
  {
   "cell_type": "code",
   "execution_count": null,
   "metadata": {},
   "outputs": [],
   "source": []
  },
  {
   "cell_type": "code",
   "execution_count": null,
   "metadata": {},
   "outputs": [],
   "source": []
  },
  {
   "cell_type": "code",
   "execution_count": null,
   "metadata": {},
   "outputs": [],
   "source": []
  },
  {
   "cell_type": "code",
   "execution_count": null,
   "metadata": {},
   "outputs": [],
   "source": []
  },
  {
   "cell_type": "code",
   "execution_count": null,
   "metadata": {},
   "outputs": [],
   "source": []
  },
  {
   "cell_type": "code",
   "execution_count": null,
   "metadata": {},
   "outputs": [],
   "source": []
  },
  {
   "cell_type": "code",
   "execution_count": null,
   "metadata": {},
   "outputs": [],
   "source": []
  },
  {
   "cell_type": "code",
   "execution_count": null,
   "metadata": {},
   "outputs": [],
   "source": []
  },
  {
   "cell_type": "code",
   "execution_count": null,
   "metadata": {},
   "outputs": [],
   "source": []
  },
  {
   "cell_type": "code",
   "execution_count": null,
   "metadata": {},
   "outputs": [],
   "source": []
  },
  {
   "cell_type": "code",
   "execution_count": null,
   "metadata": {},
   "outputs": [],
   "source": []
  },
  {
   "cell_type": "code",
   "execution_count": null,
   "metadata": {},
   "outputs": [],
   "source": []
  },
  {
   "cell_type": "code",
   "execution_count": null,
   "metadata": {},
   "outputs": [],
   "source": []
  },
  {
   "cell_type": "code",
   "execution_count": null,
   "metadata": {},
   "outputs": [],
   "source": []
  },
  {
   "cell_type": "code",
   "execution_count": null,
   "metadata": {},
   "outputs": [],
   "source": []
  },
  {
   "cell_type": "code",
   "execution_count": null,
   "metadata": {},
   "outputs": [],
   "source": []
  },
  {
   "cell_type": "code",
   "execution_count": null,
   "metadata": {},
   "outputs": [],
   "source": []
  },
  {
   "cell_type": "code",
   "execution_count": null,
   "metadata": {},
   "outputs": [],
   "source": []
  },
  {
   "cell_type": "code",
   "execution_count": null,
   "metadata": {},
   "outputs": [],
   "source": []
  },
  {
   "cell_type": "code",
   "execution_count": null,
   "metadata": {},
   "outputs": [],
   "source": []
  },
  {
   "cell_type": "code",
   "execution_count": null,
   "metadata": {},
   "outputs": [],
   "source": []
  },
  {
   "cell_type": "code",
   "execution_count": null,
   "metadata": {},
   "outputs": [],
   "source": []
  },
  {
   "cell_type": "code",
   "execution_count": null,
   "metadata": {},
   "outputs": [],
   "source": []
  },
  {
   "cell_type": "code",
   "execution_count": null,
   "metadata": {},
   "outputs": [],
   "source": []
  },
  {
   "cell_type": "code",
   "execution_count": null,
   "metadata": {},
   "outputs": [],
   "source": []
  },
  {
   "cell_type": "code",
   "execution_count": null,
   "metadata": {},
   "outputs": [],
   "source": []
  },
  {
   "cell_type": "code",
   "execution_count": null,
   "metadata": {},
   "outputs": [],
   "source": []
  },
  {
   "cell_type": "code",
   "execution_count": null,
   "metadata": {},
   "outputs": [],
   "source": []
  },
  {
   "cell_type": "code",
   "execution_count": null,
   "metadata": {},
   "outputs": [],
   "source": []
  },
  {
   "cell_type": "code",
   "execution_count": null,
   "metadata": {},
   "outputs": [],
   "source": []
  },
  {
   "cell_type": "code",
   "execution_count": null,
   "metadata": {},
   "outputs": [],
   "source": []
  },
  {
   "cell_type": "code",
   "execution_count": null,
   "metadata": {},
   "outputs": [],
   "source": []
  },
  {
   "cell_type": "code",
   "execution_count": null,
   "metadata": {},
   "outputs": [],
   "source": []
  },
  {
   "cell_type": "code",
   "execution_count": null,
   "metadata": {},
   "outputs": [],
   "source": []
  },
  {
   "cell_type": "code",
   "execution_count": null,
   "metadata": {},
   "outputs": [],
   "source": []
  },
  {
   "cell_type": "code",
   "execution_count": null,
   "metadata": {},
   "outputs": [],
   "source": []
  },
  {
   "cell_type": "code",
   "execution_count": null,
   "metadata": {},
   "outputs": [],
   "source": []
  },
  {
   "cell_type": "code",
   "execution_count": null,
   "metadata": {},
   "outputs": [],
   "source": []
  },
  {
   "cell_type": "code",
   "execution_count": null,
   "metadata": {},
   "outputs": [],
   "source": []
  },
  {
   "cell_type": "code",
   "execution_count": null,
   "metadata": {},
   "outputs": [],
   "source": []
  },
  {
   "cell_type": "code",
   "execution_count": null,
   "metadata": {},
   "outputs": [],
   "source": []
  },
  {
   "cell_type": "code",
   "execution_count": null,
   "metadata": {},
   "outputs": [],
   "source": []
  },
  {
   "cell_type": "code",
   "execution_count": null,
   "metadata": {},
   "outputs": [],
   "source": []
  },
  {
   "cell_type": "code",
   "execution_count": null,
   "metadata": {},
   "outputs": [],
   "source": []
  },
  {
   "cell_type": "code",
   "execution_count": null,
   "metadata": {},
   "outputs": [],
   "source": []
  },
  {
   "cell_type": "code",
   "execution_count": null,
   "metadata": {},
   "outputs": [],
   "source": []
  },
  {
   "cell_type": "code",
   "execution_count": null,
   "metadata": {},
   "outputs": [],
   "source": []
  },
  {
   "cell_type": "code",
   "execution_count": null,
   "metadata": {},
   "outputs": [],
   "source": []
  },
  {
   "cell_type": "code",
   "execution_count": null,
   "metadata": {},
   "outputs": [],
   "source": []
  },
  {
   "cell_type": "code",
   "execution_count": null,
   "metadata": {},
   "outputs": [],
   "source": []
  },
  {
   "cell_type": "code",
   "execution_count": 78,
   "metadata": {},
   "outputs": [
    {
     "data": {
      "text/plain": [
       "<matplotlib.collections.PathCollection at 0x1f01a3c7eb0>"
      ]
     },
     "execution_count": 78,
     "metadata": {},
     "output_type": "execute_result"
    },
    {
     "data": {
      "image/png": "[encoded data removed]",
      "text/plain": [
       "<Figure size 1080x720 with 1 Axes>"
      ]
     },
     "metadata": {
      "needs_background": "light"
     },
     "output_type": "display_data"
    }
   ],
   "source": [
    "block_vol = np.array([-1.055, -1.941, -1.14, -1.113, -0.899, -1.129, -1.105, -1.269, -1.079])\n",
    "omegas = np.array([1928, 1978, 2028, 2078, 2128, 1878, 1828, 1778, 1728])\n",
    "plt.scatter(omegas, block_vol, color = 'k')"
   ]
  },
  {
   "cell_type": "code",
   "execution_count": null,
   "metadata": {},
   "outputs": [],
   "source": []
  },
  {
   "cell_type": "code",
   "execution_count": null,
   "metadata": {},
   "outputs": [],
   "source": []
  },
  {
   "cell_type": "code",
   "execution_count": null,
   "metadata": {},
   "outputs": [],
   "source": []
  },
  {
   "cell_type": "code",
   "execution_count": null,
   "metadata": {},
   "outputs": [],
   "source": []
  },
  {
   "cell_type": "code",
   "execution_count": null,
   "metadata": {},
   "outputs": [],
   "source": []
  },
  {
   "cell_type": "code",
   "execution_count": null,
   "metadata": {},
   "outputs": [],
   "source": []
  },
  {
   "cell_type": "code",
   "execution_count": null,
   "metadata": {},
   "outputs": [],
   "source": []
  },
  {
   "cell_type": "code",
   "execution_count": null,
   "metadata": {},
   "outputs": [],
   "source": []
  },
  {
   "cell_type": "code",
   "execution_count": null,
   "metadata": {},
   "outputs": [],
   "source": []
  },
  {
   "cell_type": "code",
   "execution_count": null,
   "metadata": {},
   "outputs": [],
   "source": []
  },
  {
   "cell_type": "code",
   "execution_count": null,
   "metadata": {},
   "outputs": [],
   "source": []
  },
  {
   "cell_type": "code",
   "execution_count": null,
   "metadata": {},
   "outputs": [],
   "source": []
  },
  {
   "cell_type": "code",
   "execution_count": null,
   "metadata": {},
   "outputs": [],
   "source": []
  },
  {
   "cell_type": "code",
   "execution_count": null,
   "metadata": {},
   "outputs": [],
   "source": []
  },
  {
   "cell_type": "code",
   "execution_count": null,
   "metadata": {},
   "outputs": [],
   "source": []
  },
  {
   "cell_type": "code",
   "execution_count": null,
   "metadata": {},
   "outputs": [],
   "source": []
  },
  {
   "cell_type": "code",
   "execution_count": null,
   "metadata": {},
   "outputs": [],
   "source": []
  },
  {
   "cell_type": "code",
   "execution_count": null,
   "metadata": {},
   "outputs": [],
   "source": []
  },
  {
   "cell_type": "code",
   "execution_count": null,
   "metadata": {},
   "outputs": [],
   "source": []
  },
  {
   "cell_type": "code",
   "execution_count": null,
   "metadata": {},
   "outputs": [],
   "source": []
  },
  {
   "cell_type": "code",
   "execution_count": null,
   "metadata": {},
   "outputs": [],
   "source": []
  },
  {
   "cell_type": "code",
   "execution_count": null,
   "metadata": {},
   "outputs": [],
   "source": []
  },
  {
   "cell_type": "code",
   "execution_count": null,
   "metadata": {},
   "outputs": [],
   "source": []
  },
  {
   "cell_type": "code",
   "execution_count": null,
   "metadata": {},
   "outputs": [],
   "source": []
  },
  {
   "cell_type": "code",
   "execution_count": null,
   "metadata": {},
   "outputs": [],
   "source": []
  },
  {
   "cell_type": "code",
   "execution_count": null,
   "metadata": {},
   "outputs": [],
   "source": []
  },
  {
   "cell_type": "code",
   "execution_count": null,
   "metadata": {},
   "outputs": [],
   "source": []
  },
  {
   "cell_type": "code",
   "execution_count": null,
   "metadata": {},
   "outputs": [],
   "source": []
  },
  {
   "cell_type": "code",
   "execution_count": null,
   "metadata": {},
   "outputs": [],
   "source": []
  },
  {
   "cell_type": "code",
   "execution_count": null,
   "metadata": {},
   "outputs": [],
   "source": []
  },
  {
   "cell_type": "code",
   "execution_count": null,
   "metadata": {},
   "outputs": [],
   "source": []
  },
  {
   "cell_type": "code",
   "execution_count": null,
   "metadata": {},
   "outputs": [],
   "source": []
  },
  {
   "cell_type": "code",
   "execution_count": null,
   "metadata": {},
   "outputs": [],
   "source": []
  },
  {
   "cell_type": "code",
   "execution_count": null,
   "metadata": {},
   "outputs": [],
   "source": []
  },
  {
   "cell_type": "code",
   "execution_count": null,
   "metadata": {},
   "outputs": [],
   "source": []
  },
  {
   "cell_type": "code",
   "execution_count": null,
   "metadata": {},
   "outputs": [],
   "source": []
  },
  {
   "cell_type": "code",
   "execution_count": null,
   "metadata": {},
   "outputs": [],
   "source": []
  },
  {
   "cell_type": "code",
   "execution_count": null,
   "metadata": {},
   "outputs": [],
   "source": []
  },
  {
   "cell_type": "code",
   "execution_count": null,
   "metadata": {},
   "outputs": [],
   "source": []
  },
  {
   "cell_type": "code",
   "execution_count": null,
   "metadata": {},
   "outputs": [],
   "source": []
  },
  {
   "cell_type": "code",
   "execution_count": null,
   "metadata": {},
   "outputs": [],
   "source": []
  },
  {
   "cell_type": "code",
   "execution_count": null,
   "metadata": {},
   "outputs": [],
   "source": []
  },
  {
   "cell_type": "code",
   "execution_count": null,
   "metadata": {},
   "outputs": [],
   "source": []
  },
  {
   "cell_type": "code",
   "execution_count": null,
   "metadata": {},
   "outputs": [],
   "source": []
  },
  {
   "cell_type": "code",
   "execution_count": null,
   "metadata": {},
   "outputs": [],
   "source": []
  },
  {
   "cell_type": "code",
   "execution_count": null,
   "metadata": {},
   "outputs": [],
   "source": []
  },
  {
   "cell_type": "code",
   "execution_count": null,
   "metadata": {},
   "outputs": [],
   "source": []
  },
  {
   "cell_type": "code",
   "execution_count": null,
   "metadata": {},
   "outputs": [],
   "source": []
  },
  {
   "cell_type": "code",
   "execution_count": null,
   "metadata": {},
   "outputs": [],
   "source": []
  },
  {
   "cell_type": "code",
   "execution_count": null,
   "metadata": {},
   "outputs": [],
   "source": []
  },
  {
   "cell_type": "code",
   "execution_count": null,
   "metadata": {},
   "outputs": [],
   "source": []
  },
  {
   "cell_type": "code",
   "execution_count": null,
   "metadata": {},
   "outputs": [],
   "source": []
  },
  {
   "cell_type": "code",
   "execution_count": null,
   "metadata": {},
   "outputs": [],
   "source": []
  },
  {
   "cell_type": "code",
   "execution_count": null,
   "metadata": {},
   "outputs": [],
   "source": []
  },
  {
   "cell_type": "code",
   "execution_count": null,
   "metadata": {},
   "outputs": [],
   "source": []
  },
  {
   "cell_type": "code",
   "execution_count": null,
   "metadata": {},
   "outputs": [],
   "source": []
  },
  {
   "cell_type": "code",
   "execution_count": null,
   "metadata": {},
   "outputs": [],
   "source": []
  },
  {
   "cell_type": "code",
   "execution_count": null,
   "metadata": {},
   "outputs": [],
   "source": []
  },
  {
   "cell_type": "code",
   "execution_count": null,
   "metadata": {},
   "outputs": [],
   "source": []
  },
  {
   "cell_type": "code",
   "execution_count": null,
   "metadata": {},
   "outputs": [],
   "source": []
  },
  {
   "cell_type": "code",
   "execution_count": null,
   "metadata": {},
   "outputs": [],
   "source": []
  },
  {
   "cell_type": "code",
   "execution_count": null,
   "metadata": {},
   "outputs": [],
   "source": []
  },
  {
   "cell_type": "code",
   "execution_count": null,
   "metadata": {},
   "outputs": [],
   "source": []
  },
  {
   "cell_type": "code",
   "execution_count": null,
   "metadata": {},
   "outputs": [],
   "source": []
  },
  {
   "cell_type": "code",
   "execution_count": null,
   "metadata": {},
   "outputs": [],
   "source": []
  },
  {
   "cell_type": "code",
   "execution_count": null,
   "metadata": {},
   "outputs": [],
   "source": []
  },
  {
   "cell_type": "code",
   "execution_count": null,
   "metadata": {},
   "outputs": [],
   "source": []
  },
  {
   "cell_type": "code",
   "execution_count": null,
   "metadata": {},
   "outputs": [],
   "source": []
  },
  {
   "cell_type": "code",
   "execution_count": null,
   "metadata": {},
   "outputs": [],
   "source": []
  },
  {
   "cell_type": "code",
   "execution_count": null,
   "metadata": {},
   "outputs": [],
   "source": []
  },
  {
   "cell_type": "code",
   "execution_count": null,
   "metadata": {},
   "outputs": [],
   "source": []
  },
  {
   "cell_type": "code",
   "execution_count": null,
   "metadata": {},
   "outputs": [],
   "source": []
  },
  {
   "cell_type": "code",
   "execution_count": null,
   "metadata": {},
   "outputs": [],
   "source": []
  },
  {
   "cell_type": "code",
   "execution_count": null,
   "metadata": {},
   "outputs": [],
   "source": []
  },
  {
   "cell_type": "code",
   "execution_count": null,
   "metadata": {},
   "outputs": [],
   "source": []
  },
  {
   "cell_type": "code",
   "execution_count": null,
   "metadata": {},
   "outputs": [],
   "source": []
  },
  {
   "cell_type": "code",
   "execution_count": null,
   "metadata": {},
   "outputs": [],
   "source": []
  },
  {
   "cell_type": "code",
   "execution_count": null,
   "metadata": {},
   "outputs": [],
   "source": []
  },
  {
   "cell_type": "code",
   "execution_count": null,
   "metadata": {},
   "outputs": [],
   "source": []
  },
  {
   "cell_type": "code",
   "execution_count": null,
   "metadata": {},
   "outputs": [],
   "source": []
  },
  {
   "cell_type": "code",
   "execution_count": null,
   "metadata": {},
   "outputs": [],
   "source": []
  },
  {
   "cell_type": "code",
   "execution_count": null,
   "metadata": {},
   "outputs": [],
   "source": []
  }
 ],
 "metadata": {
  "kernelspec": {
   "display_name": "Python 3",
   "language": "python",
   "name": "python3"
  },
  "language_info": {
   "codemirror_mode": {
    "name": "ipython",
    "version": 3
   },
   "file_extension": ".py",
   "mimetype": "text/x-python",
   "name": "python",
   "nbconvert_exporter": "python",
   "pygments_lexer": "ipython3",
   "version": "3.8.5"
  }
 },
 "nbformat": 4,
 "nbformat_minor": 4
}
