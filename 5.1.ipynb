{
 "cells": [
  {
   "cell_type": "code",
   "execution_count": 1,
   "metadata": {},
   "outputs": [],
   "source": [
    "%matplotlib inline\n",
    "import pandas as pd\n",
    "import numpy as np\n",
    "import matplotlib.pyplot as plt\n",
    "import seaborn as sns\n",
    "from scipy.optimize import curve_fit"
   ]
  },
  {
   "cell_type": "code",
   "execution_count": 2,
   "metadata": {},
   "outputs": [],
   "source": [
    "def chi_sq(x, y, err):\n",
    "    function = lambda x, a, b: a * x + b\n",
    "    popt, pcov = curve_fit(function, xdata=x, ydata=y, sigma=err)\n",
    "\n",
    "    sigma_a = np.sqrt(pcov[0, 0])\n",
    "    sigma_b = np.sqrt(pcov[1, 1])\n",
    "\n",
    "    return popt[0], popt[1], sigma_a, sigma_b"
   ]
  },
  {
   "cell_type": "code",
   "execution_count": 3,
   "metadata": {},
   "outputs": [],
   "source": [
    "sns.set_theme()"
   ]
  },
  {
   "cell_type": "code",
   "execution_count": 4,
   "metadata": {},
   "outputs": [],
   "source": [
    "df = pd.read_excel('5_1.xlsx')"
   ]
  },
  {
   "cell_type": "code",
   "execution_count": 5,
   "metadata": {},
   "outputs": [
    {
     "data": {
      "text/html": [
       "<div>\n",
       "<style scoped>\n",
       "    .dataframe tbody tr th:only-of-type {\n",
       "        vertical-align: middle;\n",
       "    }\n",
       "\n",
       "    .dataframe tbody tr th {\n",
       "        vertical-align: top;\n",
       "    }\n",
       "\n",
       "    .dataframe thead th {\n",
       "        text-align: right;\n",
       "    }\n",
       "</style>\n",
       "<table border=\"1\" class=\"dataframe\">\n",
       "  <thead>\n",
       "    <tr style=\"text-align: right;\">\n",
       "      <th></th>\n",
       "      <th>фон</th>\n",
       "      <th>10с</th>\n",
       "      <th>источник</th>\n",
       "      <th>source</th>\n",
       "      <th>Al</th>\n",
       "      <th>Al1</th>\n",
       "      <th>Al_1</th>\n",
       "      <th>Al2</th>\n",
       "      <th>Al_2</th>\n",
       "      <th>Al3</th>\n",
       "      <th>...</th>\n",
       "      <th>Fe4</th>\n",
       "      <th>Fe_4</th>\n",
       "      <th>Fe5</th>\n",
       "      <th>Fe_5</th>\n",
       "      <th>Fe6</th>\n",
       "      <th>Fe_6</th>\n",
       "      <th>Fe7</th>\n",
       "      <th>Fe_7</th>\n",
       "      <th>FE</th>\n",
       "      <th>sFe</th>\n",
       "    </tr>\n",
       "  </thead>\n",
       "  <tbody>\n",
       "    <tr>\n",
       "      <th>0</th>\n",
       "      <td>178.0</td>\n",
       "      <td>NaN</td>\n",
       "      <td>225707.000000</td>\n",
       "      <td>225521.000000</td>\n",
       "      <td>2.0</td>\n",
       "      <td>105436.000000</td>\n",
       "      <td>105250.000000</td>\n",
       "      <td>56261.000000</td>\n",
       "      <td>56075.000000</td>\n",
       "      <td>34099.0</td>\n",
       "      <td>...</td>\n",
       "      <td>11254.000000</td>\n",
       "      <td>11068.000000</td>\n",
       "      <td>6259.000000</td>\n",
       "      <td>6073.000000</td>\n",
       "      <td>3374.000000</td>\n",
       "      <td>3188.000000</td>\n",
       "      <td>1912.000000</td>\n",
       "      <td>1726.000000</td>\n",
       "      <td>84354.285714</td>\n",
       "      <td>1149.091282</td>\n",
       "    </tr>\n",
       "    <tr>\n",
       "      <th>1</th>\n",
       "      <td>196.0</td>\n",
       "      <td>NaN</td>\n",
       "      <td>214145.000000</td>\n",
       "      <td>213959.000000</td>\n",
       "      <td>4.0</td>\n",
       "      <td>104977.000000</td>\n",
       "      <td>104791.000000</td>\n",
       "      <td>56552.000000</td>\n",
       "      <td>56366.000000</td>\n",
       "      <td>34145.0</td>\n",
       "      <td>...</td>\n",
       "      <td>11255.000000</td>\n",
       "      <td>11069.000000</td>\n",
       "      <td>6181.000000</td>\n",
       "      <td>5995.000000</td>\n",
       "      <td>3365.000000</td>\n",
       "      <td>3179.000000</td>\n",
       "      <td>2007.000000</td>\n",
       "      <td>1821.000000</td>\n",
       "      <td>40518.000000</td>\n",
       "      <td>287.351452</td>\n",
       "    </tr>\n",
       "    <tr>\n",
       "      <th>2</th>\n",
       "      <td>165.0</td>\n",
       "      <td>NaN</td>\n",
       "      <td>204426.000000</td>\n",
       "      <td>204240.000000</td>\n",
       "      <td>6.0</td>\n",
       "      <td>100559.000000</td>\n",
       "      <td>100373.000000</td>\n",
       "      <td>56367.000000</td>\n",
       "      <td>56181.000000</td>\n",
       "      <td>34385.0</td>\n",
       "      <td>...</td>\n",
       "      <td>11031.000000</td>\n",
       "      <td>10845.000000</td>\n",
       "      <td>6046.000000</td>\n",
       "      <td>5860.000000</td>\n",
       "      <td>3483.000000</td>\n",
       "      <td>3297.000000</td>\n",
       "      <td>2032.000000</td>\n",
       "      <td>1846.000000</td>\n",
       "      <td>20760.428571</td>\n",
       "      <td>284.674680</td>\n",
       "    </tr>\n",
       "    <tr>\n",
       "      <th>3</th>\n",
       "      <td>184.0</td>\n",
       "      <td>NaN</td>\n",
       "      <td>196691.000000</td>\n",
       "      <td>196505.000000</td>\n",
       "      <td>8.0</td>\n",
       "      <td>94859.000000</td>\n",
       "      <td>94673.000000</td>\n",
       "      <td>56295.000000</td>\n",
       "      <td>56109.000000</td>\n",
       "      <td>34377.0</td>\n",
       "      <td>...</td>\n",
       "      <td>11175.000000</td>\n",
       "      <td>10989.000000</td>\n",
       "      <td>6326.000000</td>\n",
       "      <td>6140.000000</td>\n",
       "      <td>3430.000000</td>\n",
       "      <td>3244.000000</td>\n",
       "      <td>1968.000000</td>\n",
       "      <td>1782.000000</td>\n",
       "      <td>11097.857143</td>\n",
       "      <td>143.573205</td>\n",
       "    </tr>\n",
       "    <tr>\n",
       "      <th>4</th>\n",
       "      <td>215.0</td>\n",
       "      <td>NaN</td>\n",
       "      <td>191209.000000</td>\n",
       "      <td>191023.000000</td>\n",
       "      <td>10.0</td>\n",
       "      <td>94708.000000</td>\n",
       "      <td>94522.000000</td>\n",
       "      <td>56783.000000</td>\n",
       "      <td>56597.000000</td>\n",
       "      <td>34756.0</td>\n",
       "      <td>...</td>\n",
       "      <td>11443.000000</td>\n",
       "      <td>11257.000000</td>\n",
       "      <td>6210.000000</td>\n",
       "      <td>6024.000000</td>\n",
       "      <td>3489.000000</td>\n",
       "      <td>3303.000000</td>\n",
       "      <td>1954.000000</td>\n",
       "      <td>1768.000000</td>\n",
       "      <td>6031.428571</td>\n",
       "      <td>81.816619</td>\n",
       "    </tr>\n",
       "    <tr>\n",
       "      <th>5</th>\n",
       "      <td>204.0</td>\n",
       "      <td>NaN</td>\n",
       "      <td>186036.000000</td>\n",
       "      <td>185850.000000</td>\n",
       "      <td>12.0</td>\n",
       "      <td>94869.000000</td>\n",
       "      <td>94683.000000</td>\n",
       "      <td>56540.000000</td>\n",
       "      <td>56354.000000</td>\n",
       "      <td>34374.0</td>\n",
       "      <td>...</td>\n",
       "      <td>11354.000000</td>\n",
       "      <td>11168.000000</td>\n",
       "      <td>6265.000000</td>\n",
       "      <td>6079.000000</td>\n",
       "      <td>3433.000000</td>\n",
       "      <td>3247.000000</td>\n",
       "      <td>1991.000000</td>\n",
       "      <td>1805.000000</td>\n",
       "      <td>3251.714286</td>\n",
       "      <td>49.053074</td>\n",
       "    </tr>\n",
       "    <tr>\n",
       "      <th>6</th>\n",
       "      <td>160.0</td>\n",
       "      <td>NaN</td>\n",
       "      <td>182949.000000</td>\n",
       "      <td>182763.000000</td>\n",
       "      <td>14.0</td>\n",
       "      <td>94096.000000</td>\n",
       "      <td>93910.000000</td>\n",
       "      <td>56328.000000</td>\n",
       "      <td>56142.000000</td>\n",
       "      <td>34475.0</td>\n",
       "      <td>...</td>\n",
       "      <td>11475.000000</td>\n",
       "      <td>11289.000000</td>\n",
       "      <td>6235.000000</td>\n",
       "      <td>6049.000000</td>\n",
       "      <td>3490.000000</td>\n",
       "      <td>3304.000000</td>\n",
       "      <td>2049.000000</td>\n",
       "      <td>1863.000000</td>\n",
       "      <td>1801.571429</td>\n",
       "      <td>43.683463</td>\n",
       "    </tr>\n",
       "    <tr>\n",
       "      <th>7</th>\n",
       "      <td>186.0</td>\n",
       "      <td>NaN</td>\n",
       "      <td>200166.142857</td>\n",
       "      <td>199980.142857</td>\n",
       "      <td>NaN</td>\n",
       "      <td>98500.571429</td>\n",
       "      <td>98314.571429</td>\n",
       "      <td>56446.571429</td>\n",
       "      <td>56260.571429</td>\n",
       "      <td>34373.0</td>\n",
       "      <td>...</td>\n",
       "      <td>11283.857143</td>\n",
       "      <td>11097.857143</td>\n",
       "      <td>6217.428571</td>\n",
       "      <td>6031.428571</td>\n",
       "      <td>3437.714286</td>\n",
       "      <td>3251.714286</td>\n",
       "      <td>1987.571429</td>\n",
       "      <td>1801.571429</td>\n",
       "      <td>NaN</td>\n",
       "      <td>NaN</td>\n",
       "    </tr>\n",
       "    <tr>\n",
       "      <th>8</th>\n",
       "      <td>NaN</td>\n",
       "      <td>NaN</td>\n",
       "      <td>NaN</td>\n",
       "      <td>14413.724535</td>\n",
       "      <td>NaN</td>\n",
       "      <td>NaN</td>\n",
       "      <td>4698.246264</td>\n",
       "      <td>NaN</td>\n",
       "      <td>173.546912</td>\n",
       "      <td>NaN</td>\n",
       "      <td>...</td>\n",
       "      <td>NaN</td>\n",
       "      <td>143.573205</td>\n",
       "      <td>NaN</td>\n",
       "      <td>81.816619</td>\n",
       "      <td>NaN</td>\n",
       "      <td>49.053074</td>\n",
       "      <td>NaN</td>\n",
       "      <td>43.683463</td>\n",
       "      <td>NaN</td>\n",
       "      <td>NaN</td>\n",
       "    </tr>\n",
       "  </tbody>\n",
       "</table>\n",
       "<p>9 rows × 55 columns</p>\n",
       "</div>"
      ],
      "text/plain": [
       "    фон   10с       источник         source    Al            Al1  \\\n",
       "0  178.0  NaN  225707.000000  225521.000000   2.0  105436.000000   \n",
       "1  196.0  NaN  214145.000000  213959.000000   4.0  104977.000000   \n",
       "2  165.0  NaN  204426.000000  204240.000000   6.0  100559.000000   \n",
       "3  184.0  NaN  196691.000000  196505.000000   8.0   94859.000000   \n",
       "4  215.0  NaN  191209.000000  191023.000000  10.0   94708.000000   \n",
       "5  204.0  NaN  186036.000000  185850.000000  12.0   94869.000000   \n",
       "6  160.0  NaN  182949.000000  182763.000000  14.0   94096.000000   \n",
       "7  186.0  NaN  200166.142857  199980.142857   NaN   98500.571429   \n",
       "8    NaN  NaN            NaN   14413.724535   NaN            NaN   \n",
       "\n",
       "            Al_1           Al2          Al_2      Al3  ...           Fe4  \\\n",
       "0  105250.000000  56261.000000  56075.000000  34099.0  ...  11254.000000   \n",
       "1  104791.000000  56552.000000  56366.000000  34145.0  ...  11255.000000   \n",
       "2  100373.000000  56367.000000  56181.000000  34385.0  ...  11031.000000   \n",
       "3   94673.000000  56295.000000  56109.000000  34377.0  ...  11175.000000   \n",
       "4   94522.000000  56783.000000  56597.000000  34756.0  ...  11443.000000   \n",
       "5   94683.000000  56540.000000  56354.000000  34374.0  ...  11354.000000   \n",
       "6   93910.000000  56328.000000  56142.000000  34475.0  ...  11475.000000   \n",
       "7   98314.571429  56446.571429  56260.571429  34373.0  ...  11283.857143   \n",
       "8    4698.246264           NaN    173.546912      NaN  ...           NaN   \n",
       "\n",
       "           Fe_4          Fe5         Fe_5          Fe6         Fe_6  \\\n",
       "0  11068.000000  6259.000000  6073.000000  3374.000000  3188.000000   \n",
       "1  11069.000000  6181.000000  5995.000000  3365.000000  3179.000000   \n",
       "2  10845.000000  6046.000000  5860.000000  3483.000000  3297.000000   \n",
       "3  10989.000000  6326.000000  6140.000000  3430.000000  3244.000000   \n",
       "4  11257.000000  6210.000000  6024.000000  3489.000000  3303.000000   \n",
       "5  11168.000000  6265.000000  6079.000000  3433.000000  3247.000000   \n",
       "6  11289.000000  6235.000000  6049.000000  3490.000000  3304.000000   \n",
       "7  11097.857143  6217.428571  6031.428571  3437.714286  3251.714286   \n",
       "8    143.573205          NaN    81.816619          NaN    49.053074   \n",
       "\n",
       "           Fe7         Fe_7            FE          sFe  \n",
       "0  1912.000000  1726.000000  84354.285714  1149.091282  \n",
       "1  2007.000000  1821.000000  40518.000000   287.351452  \n",
       "2  2032.000000  1846.000000  20760.428571   284.674680  \n",
       "3  1968.000000  1782.000000  11097.857143   143.573205  \n",
       "4  1954.000000  1768.000000   6031.428571    81.816619  \n",
       "5  1991.000000  1805.000000   3251.714286    49.053074  \n",
       "6  2049.000000  1863.000000   1801.571429    43.683463  \n",
       "7  1987.571429  1801.571429           NaN          NaN  \n",
       "8          NaN    43.683463           NaN          NaN  \n",
       "\n",
       "[9 rows x 55 columns]"
      ]
     },
     "execution_count": 5,
     "metadata": {},
     "output_type": "execute_result"
    }
   ],
   "source": [
    "df"
   ]
  },
  {
   "cell_type": "code",
   "execution_count": 6,
   "metadata": {},
   "outputs": [],
   "source": [
    "l_al = df['Al']\n",
    "l_pb = df['Pb']\n",
    "l_fe = df['Fe']\n",
    "al = df['AL']\n",
    "pb = df['PB']\n",
    "fe = df['FE']"
   ]
  },
  {
   "cell_type": "code",
   "execution_count": 7,
   "metadata": {},
   "outputs": [],
   "source": [
    "N0 = np.ones(9) * 199980.142857\n",
    "N0err = np.ones(9) * 14413.72454\n",
    "\n",
    "al_err = df['sAl']\n",
    "pb_err = df['sPb']\n",
    "fe_err = df['sFe']\n"
   ]
  },
  {
   "cell_type": "code",
   "execution_count": 8,
   "metadata": {},
   "outputs": [
    {
     "data": {
      "text/plain": [
       "Text(0, 0.5, '$\\\\ln(N_{0}/N)$')"
      ]
     },
     "execution_count": 8,
     "metadata": {},
     "output_type": "execute_result"
    },
    {
     "data": {
      "image/png": "[encoded data removed]",
      "text/plain": [
       "<Figure size 1080x720 with 1 Axes>"
      ]
     },
     "metadata": {},
     "output_type": "display_data"
    }
   ],
   "source": [
    "plt.rcParams[\"figure.figsize\"] = (15,10)\n",
    "\n",
    "div_1 = np.log(N0/al)\n",
    "plt.scatter(l_al, div_1, marker = '.', color = 'r', label = 'Алюминий')\n",
    "\n",
    "div_2 = np.log(N0/pb)\n",
    "plt.scatter(l_pb, div_2, marker = '.', color = 'b', label = 'Свинец')\n",
    "\n",
    "div_3 = np.log(N0/fe)\n",
    "plt.scatter(l_fe, div_3, marker = '.', color = 'g', label = 'Железо')\n",
    "\n",
    "x = np.linspace(0, 14, 50)\n",
    "a_1, b_1, s_1, e_1 = chi_sq(l_al[0:7], div_1[0:7], None)\n",
    "y = a_1 * x + b_1\n",
    "plt.plot(x, y, lw = 0.5, color = 'r')\n",
    "\n",
    "x = np.linspace(0, 3.5, 50)\n",
    "a_2, b_2, s_2, e_2 = chi_sq(l_pb[0:7], div_2[0:7], None)\n",
    "y = a_2 * x + b_2\n",
    "plt.plot(x, y, lw = 0.5, color = 'b')\n",
    "\n",
    "x = np.linspace(0, 7.05, 50)\n",
    "a_3, b_3, s_3, e_3 = chi_sq(l_fe[0:7], div_3[0:7], None)\n",
    "y = a_3 * x + b_3\n",
    "plt.plot(x, y, lw = 0.5, color = 'g')\n",
    "\n",
    "plt.legend()\n",
    "plt.xlabel('Длина пути, см')\n",
    "plt.ylabel('$\\ln(N_{0}/N)$')"
   ]
  },
  {
   "cell_type": "code",
   "execution_count": 9,
   "metadata": {},
   "outputs": [
    {
     "data": {
      "text/plain": [
       "(0.2354893878722092, 0.0045269096488662845)"
      ]
     },
     "execution_count": 9,
     "metadata": {},
     "output_type": "execute_result"
    }
   ],
   "source": [
    "a_1, s_1"
   ]
  },
  {
   "cell_type": "code",
   "execution_count": 10,
   "metadata": {},
   "outputs": [
    {
     "data": {
      "text/plain": [
       "(1.2849466559417004, 0.020966407574181178)"
      ]
     },
     "execution_count": 10,
     "metadata": {},
     "output_type": "execute_result"
    }
   ],
   "source": [
    "a_2, s_2"
   ]
  },
  {
   "cell_type": "code",
   "execution_count": 11,
   "metadata": {},
   "outputs": [
    {
     "data": {
      "text/plain": [
       "(0.6329812340685301, 0.010518607614048362)"
      ]
     },
     "execution_count": 11,
     "metadata": {},
     "output_type": "execute_result"
    }
   ],
   "source": [
    "a_3, s_3"
   ]
  },
  {
   "cell_type": "code",
   "execution_count": null,
   "metadata": {},
   "outputs": [],
   "source": []
  },
  {
   "cell_type": "code",
   "execution_count": null,
   "metadata": {},
   "outputs": [],
   "source": []
  },
  {
   "cell_type": "code",
   "execution_count": null,
   "metadata": {},
   "outputs": [],
   "source": []
  },
  {
   "cell_type": "code",
   "execution_count": null,
   "metadata": {},
   "outputs": [],
   "source": []
  },
  {
   "cell_type": "code",
   "execution_count": null,
   "metadata": {},
   "outputs": [],
   "source": []
  },
  {
   "cell_type": "code",
   "execution_count": null,
   "metadata": {},
   "outputs": [],
   "source": []
  },
  {
   "cell_type": "code",
   "execution_count": null,
   "metadata": {},
   "outputs": [],
   "source": []
  },
  {
   "cell_type": "code",
   "execution_count": null,
   "metadata": {},
   "outputs": [],
   "source": []
  },
  {
   "cell_type": "code",
   "execution_count": null,
   "metadata": {},
   "outputs": [],
   "source": []
  },
  {
   "cell_type": "code",
   "execution_count": null,
   "metadata": {},
   "outputs": [],
   "source": []
  },
  {
   "cell_type": "code",
   "execution_count": null,
   "metadata": {},
   "outputs": [],
   "source": []
  },
  {
   "cell_type": "code",
   "execution_count": null,
   "metadata": {},
   "outputs": [],
   "source": []
  },
  {
   "cell_type": "code",
   "execution_count": null,
   "metadata": {},
   "outputs": [],
   "source": []
  }
 ],
 "metadata": {
  "kernelspec": {
   "display_name": "Python 3",
   "language": "python",
   "name": "python3"
  },
  "language_info": {
   "codemirror_mode": {
    "name": "ipython",
    "version": 3
   },
   "file_extension": ".py",
   "mimetype": "text/x-python",
   "name": "python",
   "nbconvert_exporter": "python",
   "pygments_lexer": "ipython3",
   "version": "3.8.5"
  }
 },
 "nbformat": 4,
 "nbformat_minor": 4
}
