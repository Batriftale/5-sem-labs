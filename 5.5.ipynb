{
 "cells": [
  {
   "cell_type": "code",
   "execution_count": 1,
   "metadata": {},
   "outputs": [],
   "source": [
    "%matplotlib inline\n",
    "import pandas as pd\n",
    "import numpy as np\n",
    "import matplotlib.pyplot as plt\n",
    "from scipy.optimize import curve_fit\n",
    "import seaborn as sns"
   ]
  },
  {
   "cell_type": "code",
   "execution_count": 2,
   "metadata": {},
   "outputs": [],
   "source": [
    "def chi_sq(x, y, err):\n",
    "    function = lambda x, a, b: a * x + b\n",
    "    popt, pcov = curve_fit(function, xdata=x, ydata=y, sigma=err)\n",
    "\n",
    "    sigma_a = np.sqrt(pcov[0, 0])\n",
    "    sigma_b = np.sqrt(pcov[1, 1])\n",
    "\n",
    "    return popt[0], popt[1], sigma_a, sigma_b"
   ]
  },
  {
   "cell_type": "code",
   "execution_count": 3,
   "metadata": {},
   "outputs": [],
   "source": [
    "sns.set_theme()"
   ]
  },
  {
   "cell_type": "code",
   "execution_count": 4,
   "metadata": {},
   "outputs": [],
   "source": [
    "data = pd.read_excel('Kompyuternaya_Gamma-Spektroskopia.xlsx')"
   ]
  },
  {
   "cell_type": "code",
   "execution_count": 5,
   "metadata": {},
   "outputs": [
    {
     "data": {
      "text/html": [
       "<div>\n",
       "<style scoped>\n",
       "    .dataframe tbody tr th:only-of-type {\n",
       "        vertical-align: middle;\n",
       "    }\n",
       "\n",
       "    .dataframe tbody tr th {\n",
       "        vertical-align: top;\n",
       "    }\n",
       "\n",
       "    .dataframe thead th {\n",
       "        text-align: right;\n",
       "    }\n",
       "</style>\n",
       "<table border=\"1\" class=\"dataframe\">\n",
       "  <thead>\n",
       "    <tr style=\"text-align: right;\">\n",
       "      <th></th>\n",
       "      <th>Unnamed: 0</th>\n",
       "      <th>Co60</th>\n",
       "      <th>Unnamed: 2</th>\n",
       "      <th>Am241</th>\n",
       "      <th>Unnamed: 4</th>\n",
       "      <th>Cs137</th>\n",
       "      <th>Unnamed: 6</th>\n",
       "      <th>Na22</th>\n",
       "      <th>Unnamed: 8</th>\n",
       "      <th>Eu152</th>\n",
       "      <th>Unnamed: 10</th>\n",
       "      <th>Unnamed: 11</th>\n",
       "    </tr>\n",
       "  </thead>\n",
       "  <tbody>\n",
       "    <tr>\n",
       "      <th>0</th>\n",
       "      <td>1ый пик</td>\n",
       "      <td>1638.0</td>\n",
       "      <td>1.173</td>\n",
       "      <td>115.0</td>\n",
       "      <td>NaN</td>\n",
       "      <td>121.0</td>\n",
       "      <td>NaN</td>\n",
       "      <td>752.0</td>\n",
       "      <td>NaN</td>\n",
       "      <td>135.0</td>\n",
       "      <td>NaN</td>\n",
       "      <td>NaN</td>\n",
       "    </tr>\n",
       "    <tr>\n",
       "      <th>1</th>\n",
       "      <td>2ой пик</td>\n",
       "      <td>1847.0</td>\n",
       "      <td>1.332</td>\n",
       "      <td>162.0</td>\n",
       "      <td>NaN</td>\n",
       "      <td>957.0</td>\n",
       "      <td>NaN</td>\n",
       "      <td>1779.0</td>\n",
       "      <td>NaN</td>\n",
       "      <td>244.0</td>\n",
       "      <td>NaN</td>\n",
       "      <td>NaN</td>\n",
       "    </tr>\n",
       "    <tr>\n",
       "      <th>2</th>\n",
       "      <td>NaN</td>\n",
       "      <td>209.0</td>\n",
       "      <td>NaN</td>\n",
       "      <td>47.0</td>\n",
       "      <td>NaN</td>\n",
       "      <td>836.0</td>\n",
       "      <td>NaN</td>\n",
       "      <td>1027.0</td>\n",
       "      <td>NaN</td>\n",
       "      <td>109.0</td>\n",
       "      <td>NaN</td>\n",
       "      <td>405.0</td>\n",
       "    </tr>\n",
       "    <tr>\n",
       "      <th>3</th>\n",
       "      <td>NaN</td>\n",
       "      <td>NaN</td>\n",
       "      <td>NaN</td>\n",
       "      <td>NaN</td>\n",
       "      <td>NaN</td>\n",
       "      <td>NaN</td>\n",
       "      <td>NaN</td>\n",
       "      <td>NaN</td>\n",
       "      <td>NaN</td>\n",
       "      <td>NaN</td>\n",
       "      <td>NaN</td>\n",
       "      <td>533.0</td>\n",
       "    </tr>\n",
       "    <tr>\n",
       "      <th>4</th>\n",
       "      <td>NaN</td>\n",
       "      <td>NaN</td>\n",
       "      <td>NaN</td>\n",
       "      <td>NaN</td>\n",
       "      <td>NaN</td>\n",
       "      <td>NaN</td>\n",
       "      <td>NaN</td>\n",
       "      <td>NaN</td>\n",
       "      <td>NaN</td>\n",
       "      <td>NaN</td>\n",
       "      <td>NaN</td>\n",
       "      <td>1103.0</td>\n",
       "    </tr>\n",
       "    <tr>\n",
       "      <th>5</th>\n",
       "      <td>NaN</td>\n",
       "      <td>NaN</td>\n",
       "      <td>NaN</td>\n",
       "      <td>NaN</td>\n",
       "      <td>NaN</td>\n",
       "      <td>NaN</td>\n",
       "      <td>NaN</td>\n",
       "      <td>NaN</td>\n",
       "      <td>NaN</td>\n",
       "      <td>NaN</td>\n",
       "      <td>NaN</td>\n",
       "      <td>1347.0</td>\n",
       "    </tr>\n",
       "    <tr>\n",
       "      <th>6</th>\n",
       "      <td>NaN</td>\n",
       "      <td>NaN</td>\n",
       "      <td>NaN</td>\n",
       "      <td>NaN</td>\n",
       "      <td>NaN</td>\n",
       "      <td>NaN</td>\n",
       "      <td>NaN</td>\n",
       "      <td>NaN</td>\n",
       "      <td>NaN</td>\n",
       "      <td>NaN</td>\n",
       "      <td>NaN</td>\n",
       "      <td>1534.0</td>\n",
       "    </tr>\n",
       "    <tr>\n",
       "      <th>7</th>\n",
       "      <td>NaN</td>\n",
       "      <td>NaN</td>\n",
       "      <td>NaN</td>\n",
       "      <td>NaN</td>\n",
       "      <td>NaN</td>\n",
       "      <td>NaN</td>\n",
       "      <td>NaN</td>\n",
       "      <td>NaN</td>\n",
       "      <td>NaN</td>\n",
       "      <td>NaN</td>\n",
       "      <td>NaN</td>\n",
       "      <td>1953.0</td>\n",
       "    </tr>\n",
       "  </tbody>\n",
       "</table>\n",
       "</div>"
      ],
      "text/plain": [
       "  Unnamed: 0    Co60  Unnamed: 2  Am241  Unnamed: 4  Cs137  Unnamed: 6  \\\n",
       "0    1ый пик  1638.0       1.173  115.0         NaN  121.0         NaN   \n",
       "1    2ой пик  1847.0       1.332  162.0         NaN  957.0         NaN   \n",
       "2        NaN   209.0         NaN   47.0         NaN  836.0         NaN   \n",
       "3        NaN     NaN         NaN    NaN         NaN    NaN         NaN   \n",
       "4        NaN     NaN         NaN    NaN         NaN    NaN         NaN   \n",
       "5        NaN     NaN         NaN    NaN         NaN    NaN         NaN   \n",
       "6        NaN     NaN         NaN    NaN         NaN    NaN         NaN   \n",
       "7        NaN     NaN         NaN    NaN         NaN    NaN         NaN   \n",
       "\n",
       "     Na22  Unnamed: 8  Eu152  Unnamed: 10  Unnamed: 11  \n",
       "0   752.0         NaN  135.0          NaN          NaN  \n",
       "1  1779.0         NaN  244.0          NaN          NaN  \n",
       "2  1027.0         NaN  109.0          NaN        405.0  \n",
       "3     NaN         NaN    NaN          NaN        533.0  \n",
       "4     NaN         NaN    NaN          NaN       1103.0  \n",
       "5     NaN         NaN    NaN          NaN       1347.0  \n",
       "6     NaN         NaN    NaN          NaN       1534.0  \n",
       "7     NaN         NaN    NaN          NaN       1953.0  "
      ]
     },
     "execution_count": 5,
     "metadata": {},
     "output_type": "execute_result"
    }
   ],
   "source": [
    "data"
   ]
  },
  {
   "cell_type": "code",
   "execution_count": 6,
   "metadata": {},
   "outputs": [],
   "source": [
    "Eh_co = 0.08 #MeV\n",
    "Er_co = 0.21 #MeV\n",
    "Ek_co = 0.9 #MeV\n",
    "E_co = [1.173, 1.332]\n",
    "N_co = [1638, 1847]"
   ]
  },
  {
   "cell_type": "code",
   "execution_count": 7,
   "metadata": {},
   "outputs": [],
   "source": [
    "Er_cs = 184.5 #KeV\n",
    "E_cs = [0.662]\n",
    "N_cs = [957]"
   ]
  },
  {
   "cell_type": "code",
   "execution_count": 8,
   "metadata": {},
   "outputs": [],
   "source": [
    "E_na = [0.511, 1.275]\n",
    "N_na = [752, 1779]"
   ]
  },
  {
   "cell_type": "code",
   "execution_count": 9,
   "metadata": {},
   "outputs": [
    {
     "data": {
      "text/plain": [
       "<matplotlib.collections.PathCollection at 0x183f45b4e80>"
      ]
     },
     "execution_count": 9,
     "metadata": {},
     "output_type": "execute_result"
    },
    {
     "data": {
      "image/png": "[encoded data removed]",
      "text/plain": [
       "<Figure size 1080x720 with 1 Axes>"
      ]
     },
     "metadata": {},
     "output_type": "display_data"
    }
   ],
   "source": [
    "plt.rcParams[\"figure.figsize\"] = (15,10)\n",
    "E = [0.511, 1.275,0.662]\n",
    "N = [752, 1779, 957]\n",
    "\n",
    "a,b,s,e = chi_sq(E, N, None)\n",
    "x = np.linspace(0.5, 1.4, 100)\n",
    "y = a * x + b\n",
    "plt.plot(x,y,lw=0.5,color='k')\n",
    "plt.xlabel('E,МэВ')\n",
    "plt.ylabel('N')\n",
    "plt.scatter(E, N, color = 'k', marker = '.')"
   ]
  },
  {
   "cell_type": "code",
   "execution_count": 43,
   "metadata": {},
   "outputs": [
    {
     "data": {
      "text/plain": [
       "(1343.2909210836121, 66.54127508057023, 2.720804456904536, 2.3952302954046902)"
      ]
     },
     "execution_count": 43,
     "metadata": {},
     "output_type": "execute_result"
    }
   ],
   "source": [
    "a, b, s, e"
   ]
  },
  {
   "cell_type": "code",
   "execution_count": 11,
   "metadata": {},
   "outputs": [],
   "source": [
    "N_am = [115, 162]\n",
    "N_eu = [135, 244, 405, 533, 1103, 1347, 1534, 1953]\n"
   ]
  },
  {
   "cell_type": "code",
   "execution_count": 12,
   "metadata": {},
   "outputs": [],
   "source": [
    "B = np.ones(2) * b\n",
    "A = np.ones(2) * a\n",
    "E_am = (N_am - B) / A"
   ]
  },
  {
   "cell_type": "code",
   "execution_count": 13,
   "metadata": {},
   "outputs": [
    {
     "data": {
      "text/plain": [
       "array([0.03607463, 0.07106333])"
      ]
     },
     "execution_count": 13,
     "metadata": {},
     "output_type": "execute_result"
    }
   ],
   "source": [
    "E_am"
   ]
  },
  {
   "cell_type": "code",
   "execution_count": 14,
   "metadata": {},
   "outputs": [],
   "source": [
    "B = np.ones(8) * b\n",
    "A = np.ones(8) * a\n",
    "E_eu = (N_eu - B) / A"
   ]
  },
  {
   "cell_type": "code",
   "execution_count": 15,
   "metadata": {},
   "outputs": [
    {
     "data": {
      "text/plain": [
       "array([0.05096344, 0.13210744, 0.25196234, 0.34725071, 0.77158172,\n",
       "       0.95322518, 1.09243553, 1.40435604])"
      ]
     },
     "execution_count": 15,
     "metadata": {},
     "output_type": "execute_result"
    }
   ],
   "source": [
    "E_eu"
   ]
  },
  {
   "cell_type": "code",
   "execution_count": 16,
   "metadata": {},
   "outputs": [],
   "source": [
    "B = np.ones(2) * b\n",
    "A = np.ones(2) * a\n",
    "dN_am = [18, 14]\n",
    "dE_am = (dN_am - B)/A"
   ]
  },
  {
   "cell_type": "code",
   "execution_count": 17,
   "metadata": {},
   "outputs": [
    {
     "data": {
      "text/plain": [
       "array([-0.03613609, -0.03911385])"
      ]
     },
     "execution_count": 17,
     "metadata": {},
     "output_type": "execute_result"
    }
   ],
   "source": [
    "dE_am"
   ]
  },
  {
   "cell_type": "code",
   "execution_count": 18,
   "metadata": {},
   "outputs": [],
   "source": [
    "dN_cs = [41, 78]\n",
    "dE_cs = (dN_cs - B)/A"
   ]
  },
  {
   "cell_type": "code",
   "execution_count": 19,
   "metadata": {},
   "outputs": [
    {
     "data": {
      "text/plain": [
       "array([-0.01901396,  0.00853034])"
      ]
     },
     "execution_count": 19,
     "metadata": {},
     "output_type": "execute_result"
    }
   ],
   "source": [
    "dE_cs"
   ]
  },
  {
   "cell_type": "code",
   "execution_count": 20,
   "metadata": {},
   "outputs": [],
   "source": [
    "E_cs = (121 - b)/a"
   ]
  },
  {
   "cell_type": "code",
   "execution_count": 21,
   "metadata": {},
   "outputs": [
    {
     "data": {
      "text/plain": [
       "0.04054127372162893"
      ]
     },
     "execution_count": 21,
     "metadata": {},
     "output_type": "execute_result"
    }
   ],
   "source": [
    "E_cs"
   ]
  },
  {
   "cell_type": "code",
   "execution_count": 22,
   "metadata": {},
   "outputs": [],
   "source": [
    "E_cs = [0.0377, 0.661]"
   ]
  },
  {
   "cell_type": "code",
   "execution_count": 23,
   "metadata": {},
   "outputs": [],
   "source": [
    "dN_na = [64, 104]\n",
    "dE_na = (dN_na - B)/A"
   ]
  },
  {
   "cell_type": "code",
   "execution_count": 24,
   "metadata": {},
   "outputs": [
    {
     "data": {
      "text/plain": [
       "array([-0.00189183,  0.02788579])"
      ]
     },
     "execution_count": 24,
     "metadata": {},
     "output_type": "execute_result"
    }
   ],
   "source": [
    "dE_na"
   ]
  },
  {
   "cell_type": "code",
   "execution_count": 25,
   "metadata": {},
   "outputs": [],
   "source": [
    "dN_eu = [21, 24, 37, 47, 83, 81, 81, 111]\n",
    "B = np.ones(8) * b\n",
    "A = np.ones(8) * a\n",
    "dE_eu = (dN_eu - B)/A"
   ]
  },
  {
   "cell_type": "code",
   "execution_count": 26,
   "metadata": {},
   "outputs": [
    {
     "data": {
      "text/plain": [
       "array([-0.03390276, -0.03166944, -0.02199172, -0.01454731,  0.01225254,\n",
       "        0.01076366,  0.01076366,  0.03309687])"
      ]
     },
     "execution_count": 26,
     "metadata": {},
     "output_type": "execute_result"
    }
   ],
   "source": [
    "dE_eu"
   ]
  },
  {
   "cell_type": "code",
   "execution_count": 27,
   "metadata": {},
   "outputs": [],
   "source": [
    "dN_co = [78, 100]\n",
    "B = np.ones(2) * b\n",
    "A = np.ones(2) * a\n",
    "dE_co = (dN_co - B)/A"
   ]
  },
  {
   "cell_type": "code",
   "execution_count": 28,
   "metadata": {},
   "outputs": [
    {
     "data": {
      "text/plain": [
       "array([0.00853034, 0.02490803])"
      ]
     },
     "execution_count": 28,
     "metadata": {},
     "output_type": "execute_result"
    }
   ],
   "source": [
    "dE_co"
   ]
  },
  {
   "cell_type": "code",
   "execution_count": 29,
   "metadata": {},
   "outputs": [],
   "source": [
    "R_co = dE_co/E_co\n",
    "R_na = dE_na/E_na\n",
    "R_am = dE_am/E_am\n",
    "R_eu = dE_eu/E_eu\n",
    "R_cs = dE_cs/E_cs"
   ]
  },
  {
   "cell_type": "code",
   "execution_count": 30,
   "metadata": {},
   "outputs": [
    {
     "data": {
      "text/plain": [
       "(array([0.00727224, 0.01869972]),\n",
       " array([-0.00370221,  0.02187121]),\n",
       " array([-1.00170351, -0.55040831]),\n",
       " array([-0.66523698, -0.2397249 , -0.08728177, -0.04189283,  0.01587977,\n",
       "         0.01129183,  0.0098529 ,  0.02356729]),\n",
       " array([-0.50434898,  0.0129052 ]))"
      ]
     },
     "execution_count": 30,
     "metadata": {},
     "output_type": "execute_result"
    }
   ],
   "source": [
    "R_co, R_na, R_am, R_eu, R_cs"
   ]
  },
  {
   "cell_type": "code",
   "execution_count": 31,
   "metadata": {},
   "outputs": [
    {
     "data": {
      "text/plain": [
       "([1.173, 1.332],\n",
       " [0.511, 1.275],\n",
       " array([0.03607463, 0.07106333]),\n",
       " array([0.05096344, 0.13210744, 0.25196234, 0.34725071, 0.77158172,\n",
       "        0.95322518, 1.09243553, 1.40435604]),\n",
       " [0.0377, 0.661])"
      ]
     },
     "execution_count": 31,
     "metadata": {},
     "output_type": "execute_result"
    }
   ],
   "source": [
    "E_co, E_na , E_am, E_eu, E_cs"
   ]
  },
  {
   "cell_type": "code",
   "execution_count": 32,
   "metadata": {},
   "outputs": [],
   "source": [
    "R = [0.00477506, 0.0165617 , -0.00953579,  0.01964921,  -0.61772005,-0.76780417, -0.26810815, -0.10019296, -0.05084085,  0.01209389,\n",
    "         0.00821535,  0.00716561,  0.02150707,  0.00847375]\n",
    "R_sq = np.power(R,2)\n",
    "E = [1.173, 1.332, 0.511, 1.275, 0.06844476, 0.04824503, 0.1297921 , 0.25024236, 0.34600406, 0.77244288, 0.95498862, 1.09489048, 1.40836041, 0.661]\n",
    "E_ = np.ones(14)/E"
   ]
  },
  {
   "cell_type": "code",
   "execution_count": 33,
   "metadata": {},
   "outputs": [
    {
     "data": {
      "text/plain": [
       "array([ 0.85251492,  0.75075075,  1.95694716,  0.78431373, 14.61032225,\n",
       "       20.72752364,  7.70462917,  3.996126  ,  2.8901395 ,  1.29459411,\n",
       "        1.0471329 ,  0.91333336,  0.71004552,  1.5128593 ])"
      ]
     },
     "execution_count": 33,
     "metadata": {},
     "output_type": "execute_result"
    }
   ],
   "source": [
    "E_"
   ]
  },
  {
   "cell_type": "code",
   "execution_count": 34,
   "metadata": {},
   "outputs": [
    {
     "data": {
      "text/plain": [
       "Text(0, 0.5, 'R$^{2}$')"
      ]
     },
     "execution_count": 34,
     "metadata": {},
     "output_type": "execute_result"
    },
    {
     "data": {
      "image/png": "[encoded data removed]",
      "text/plain": [
       "<Figure size 1080x720 with 1 Axes>"
      ]
     },
     "metadata": {},
     "output_type": "display_data"
    }
   ],
   "source": [
    "plt.scatter(E_, R_sq)\n",
    "\n",
    "x = np.linspace(0, 21, 100)\n",
    "a_, b_, s_, e_ = chi_sq(E_, R_sq, None)\n",
    "y = a_ * x + b_\n",
    "plt.plot(x, y, lw = 0.5)\n",
    "\n",
    "plt.xlabel('1/E, 1/MeV')\n",
    "plt.ylabel('R$^{2}$')"
   ]
  },
  {
   "cell_type": "code",
   "execution_count": 35,
   "metadata": {},
   "outputs": [],
   "source": [
    "E_h = (200 - b)/a"
   ]
  },
  {
   "cell_type": "code",
   "execution_count": 36,
   "metadata": {},
   "outputs": [
    {
     "data": {
      "text/plain": [
       "0.09935206352155693"
      ]
     },
     "execution_count": 36,
     "metadata": {},
     "output_type": "execute_result"
    }
   ],
   "source": [
    "E_h"
   ]
  },
  {
   "cell_type": "code",
   "execution_count": 37,
   "metadata": {},
   "outputs": [],
   "source": [
    "Er_co = 0.21\n",
    "Er_cs = 0.1845\n",
    "Er_na = 0.21\n",
    "Em_na = (318 - b)/a\n",
    "Em_cs = (370 - b)/a\n",
    "Em_co = (230 - b)/a\n",
    "Em = [Em_co, Em_cs, Em_na]\n",
    "Er = [Er_co, Er_cs, Er_na]"
   ]
  },
  {
   "cell_type": "code",
   "execution_count": 45,
   "metadata": {},
   "outputs": [
    {
     "data": {
      "text/plain": [
       "[0.12168527483798529, 0.22590692764798428, 0.1871960280328418]"
      ]
     },
     "execution_count": 45,
     "metadata": {},
     "output_type": "execute_result"
    }
   ],
   "source": [
    "Em"
   ]
  },
  {
   "cell_type": "code",
   "execution_count": 46,
   "metadata": {},
   "outputs": [
    {
     "data": {
      "text/plain": [
       "[0.21, 0.1845, 0.21]"
      ]
     },
     "execution_count": 46,
     "metadata": {},
     "output_type": "execute_result"
    }
   ],
   "source": [
    "Er"
   ]
  },
  {
   "cell_type": "code",
   "execution_count": 38,
   "metadata": {},
   "outputs": [
    {
     "data": {
      "text/plain": [
       "Text(0, 0.5, 'Eобр, MeV')"
      ]
     },
     "execution_count": 38,
     "metadata": {},
     "output_type": "execute_result"
    },
    {
     "data": {
      "image/png": "[encoded data removed]",
      "text/plain": [
       "<Figure size 1080x720 with 1 Axes>"
      ]
     },
     "metadata": {},
     "output_type": "display_data"
    }
   ],
   "source": [
    "plt.scatter(Em, Er)\n",
    "plt.xlabel('E,MeV')\n",
    "plt.ylabel('Eобр, MeV')"
   ]
  },
  {
   "cell_type": "code",
   "execution_count": 39,
   "metadata": {},
   "outputs": [],
   "source": [
    "m_co = 0.511 * 60\n",
    "m_na = 0.511 * 22\n",
    "m_cs = 0.511 * 137"
   ]
  },
  {
   "cell_type": "code",
   "execution_count": 40,
   "metadata": {},
   "outputs": [
    {
     "data": {
      "text/plain": [
       "Text(0, 0.5, 'E$_{theor}$')"
      ]
     },
     "execution_count": 40,
     "metadata": {},
     "output_type": "execute_result"
    },
    {
     "data": {
      "image/png": "[encoded data removed]",
      "text/plain": [
       "<Figure size 1080x720 with 1 Axes>"
      ]
     },
     "metadata": {},
     "output_type": "display_data"
    }
   ],
   "source": [
    "Ek_co = 0.922\n",
    "Ek_cs = 0.488\n",
    "Ek_na = 0.999 #exp\n",
    "Ek_exp = [0.922, 0.488, 0.999]\n",
    "Ek_t = [0.963, 0.477, 1.062 ]\n",
    "\n",
    "plt.scatter(Ek_exp, Ek_t, marker = '.', color = 'k')\n",
    "\n",
    "x = np.linspace(0.477, 1.062, 100)\n",
    "a_, b_, s_, e_ = chi_sq(Ek_exp, Ek_t, None)\n",
    "y = a_ * x + b_\n",
    "plt.plot(x, y, lw = 0.5, color = 'k')\n",
    "\n",
    "plt.xlabel('E$_{exp}$')\n",
    "plt.ylabel('E$_{theor}$')\n"
   ]
  },
  {
   "cell_type": "code",
   "execution_count": 41,
   "metadata": {},
   "outputs": [
    {
     "data": {
      "text/plain": [
       "(1.1363091423750262,\n",
       " -0.07845624150922821,\n",
       " 0.02108555741551114,\n",
       " 0.017583505245558972)"
      ]
     },
     "execution_count": 41,
     "metadata": {},
     "output_type": "execute_result"
    }
   ],
   "source": [
    "a_, b_, s_, e_"
   ]
  },
  {
   "cell_type": "code",
   "execution_count": null,
   "metadata": {},
   "outputs": [],
   "source": []
  },
  {
   "cell_type": "code",
   "execution_count": null,
   "metadata": {},
   "outputs": [],
   "source": []
  },
  {
   "cell_type": "code",
   "execution_count": null,
   "metadata": {},
   "outputs": [],
   "source": []
  },
  {
   "cell_type": "code",
   "execution_count": null,
   "metadata": {},
   "outputs": [],
   "source": []
  },
  {
   "cell_type": "code",
   "execution_count": null,
   "metadata": {},
   "outputs": [],
   "source": []
  },
  {
   "cell_type": "code",
   "execution_count": null,
   "metadata": {},
   "outputs": [],
   "source": []
  },
  {
   "cell_type": "code",
   "execution_count": null,
   "metadata": {},
   "outputs": [],
   "source": []
  },
  {
   "cell_type": "code",
   "execution_count": null,
   "metadata": {},
   "outputs": [],
   "source": []
  },
  {
   "cell_type": "code",
   "execution_count": null,
   "metadata": {},
   "outputs": [],
   "source": []
  },
  {
   "cell_type": "code",
   "execution_count": null,
   "metadata": {},
   "outputs": [],
   "source": []
  },
  {
   "cell_type": "code",
   "execution_count": null,
   "metadata": {},
   "outputs": [],
   "source": []
  },
  {
   "cell_type": "code",
   "execution_count": null,
   "metadata": {},
   "outputs": [],
   "source": []
  },
  {
   "cell_type": "code",
   "execution_count": null,
   "metadata": {},
   "outputs": [],
   "source": []
  },
  {
   "cell_type": "code",
   "execution_count": null,
   "metadata": {},
   "outputs": [],
   "source": []
  },
  {
   "cell_type": "code",
   "execution_count": null,
   "metadata": {},
   "outputs": [],
   "source": []
  },
  {
   "cell_type": "code",
   "execution_count": null,
   "metadata": {},
   "outputs": [],
   "source": []
  },
  {
   "cell_type": "code",
   "execution_count": null,
   "metadata": {},
   "outputs": [],
   "source": []
  },
  {
   "cell_type": "code",
   "execution_count": null,
   "metadata": {},
   "outputs": [],
   "source": []
  },
  {
   "cell_type": "code",
   "execution_count": null,
   "metadata": {},
   "outputs": [],
   "source": []
  }
 ],
 "metadata": {
  "kernelspec": {
   "display_name": "Python 3",
   "language": "python",
   "name": "python3"
  },
  "language_info": {
   "codemirror_mode": {
    "name": "ipython",
    "version": 3
   },
   "file_extension": ".py",
   "mimetype": "text/x-python",
   "name": "python",
   "nbconvert_exporter": "python",
   "pygments_lexer": "ipython3",
   "version": "3.8.5"
  }
 },
 "nbformat": 4,
 "nbformat_minor": 4
}
